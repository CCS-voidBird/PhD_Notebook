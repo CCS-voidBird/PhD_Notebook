{
 "cells": [
  {
   "cell_type": "markdown",
   "id": "42b9bef8",
   "metadata": {},
   "source": [
    "TEST ML_composer \n"
   ]
  },
  {
   "cell_type": "code",
   "execution_count": 18,
   "id": "ec965f08",
   "metadata": {},
   "outputs": [],
   "source": [
    "import os\n",
    "from GS_composer import *"
   ]
  },
  {
   "cell_type": "code",
   "execution_count": 19,
   "id": "f53b80eb",
   "metadata": {},
   "outputs": [
    {
     "name": "stdout",
     "output_type": "stream",
     "text": [
      "C:\\Users\\uqcche32\\OneDrive - The University of Queensland\\PhD\\HPC_Results\\Sugarcane_disease\\ML\n"
     ]
    }
   ],
   "source": [
    "import os\n",
    "print(os.getcwd())\n",
    "#os.chdir(\"F:/project/sugarcane_disease/\")\n",
    "#os.chdir(\"O:/project/sugarcane_disease/\")\n",
    "os.getcwd()\n",
    "os.environ[\"KMP_DUPLICATE_LIB_OK\"]=\"TRUE\"\n",
    "user_profile = \"C:/Users/uqcche32/OneDrive - The University of Queensland/\"\n",
    "#os.chdir(\"E:/learning resource/OneDrive - The University of Queensland/PhD/HPC_Results/Sugarcane_disease/ML/\")\n",
    "os.chdir(\"C:/Users/uqcche32/OneDrive - The University of Queensland/PhD/HPC_Results/Sugarcane_disease/ML/\")"
   ]
  },
  {
   "cell_type": "code",
   "execution_count": 20,
   "id": "c5b0a862",
   "metadata": {},
   "outputs": [],
   "source": [
    "from ClassModel import *\n",
    "from CustomLayers import *"
   ]
  },
  {
   "cell_type": "code",
   "execution_count": 21,
   "id": "af654204",
   "metadata": {},
   "outputs": [],
   "source": [
    "from Functions import *"
   ]
  },
  {
   "cell_type": "code",
   "execution_count": 107,
   "id": "1f856e93",
   "metadata": {},
   "outputs": [],
   "source": [
    "class p_args:\n",
    "    \n",
    "    def __init__(self):\n",
    "        \n",
    "        self.ped = user_profile +\"/PhD/data/sugarcane_disease/subset/disease_subset\"\n",
    "        self.pheno = user_profile +\"PhD/data/sugarcane_disease/subset/disease_subset.phen\"\n",
    "        self.mpheno = 1\n",
    "        self.index = user_profile +\"PhD/data/sugarcane_disease/subset/disease_subset.index\"\n",
    "        self.model = \"MultiHead Attention LNN\"\n",
    "        self.annotation =  user_profile +\"PhD/data/sugarcane_disease/subset/disease_subset.anno\"\n",
    "        self.trait = \"smut\"\n",
    "        self.output = \"./Attention_Test_win\"\n",
    "        \n",
    "        self.load = None\n",
    "        self.save = True\n",
    "        self.plot = True\n",
    "        \n",
    "        self.round = 1\n",
    "        self.epoch = 10\n",
    "        self.rank =False\n",
    "        self.lr = 0.0001\n",
    "        self.batch = 32\n",
    "        self.mean = False\n",
    "        self.width = 64\n",
    "        self.depth = 2\n",
    "        self.quiet = 1\n",
    "        self.num_heads = 1\n",
    "        self.residual = True\n",
    "        self.embedding = 12\n",
    "        self.data_type = \"numerous\"\n",
    "        self.activation = \"linear\"\n",
    "        self.classes = 0\n",
    "        \n",
    "        \n",
    "args = p_args()"
   ]
  },
  {
   "cell_type": "code",
   "execution_count": 108,
   "id": "543e6b9e",
   "metadata": {},
   "outputs": [],
   "source": [
    "config = None\n"
   ]
  },
  {
   "cell_type": "code",
   "execution_count": 109,
   "id": "022829e7",
   "metadata": {},
   "outputs": [],
   "source": [
    "if args.output[0] == \"/\":\n",
    "    locat = '/' + args.output.strip('/') + '/'\n",
    "else:\n",
    "    locat = args.output.strip('/') + '/'\n",
    "if not os.path.exists(locat):\n",
    "    os.mkdir(locat)"
   ]
  },
  {
   "cell_type": "code",
   "execution_count": 110,
   "id": "d9730339",
   "metadata": {},
   "outputs": [],
   "source": [
    "composer = ML_composer()\n",
    "composer._model\n",
    "composer.silence_mode = 2"
   ]
  },
  {
   "cell_type": "code",
   "execution_count": 111,
   "id": "164ed974",
   "metadata": {},
   "outputs": [],
   "source": [
    "#composer.get_data(config,args)\n",
    "composer.args = args"
   ]
  },
  {
   "cell_type": "code",
   "execution_count": 112,
   "id": "1f6dc0d4",
   "metadata": {},
   "outputs": [
    {
     "name": "stdout",
     "output_type": "stream",
     "text": [
      "1    939\n",
      "3    940\n",
      "4    940\n",
      "2    940\n",
      "5    943\n",
      "Name: 2, dtype: int64\n",
      "Get genotype shape: (4702, 100)\n",
      "   7   8   9   10  11  12  13  14  15\n",
      "1   0   2   0   1   2   1   0   1   2\n",
      "2   1   2   1   1   2   1   0   1   1\n",
      "3   1   2   0   0   1   0   1   1   2\n",
      "4   1   2   0   0   1   0   1   1   2\n",
      "5   0   2   1   1   2   0   2   1   1\n",
      "6   0   2   0   1   2   1   0   1   2\n",
      "7   1   2   1   1   2   1   2   1   2\n",
      "8   0   2   0   1   1   0   1   0   2\n",
      "9   1   2   1   1   2   1   2   1   2\n",
      "Running data check\n",
      "GENO\n",
      "FAM\n",
      "PHENO\n",
      "INDEX\n",
      "SNPs in annotation file are not ordered by map file\n",
      "Got LD shape:\n",
      "(100, 6)\n"
     ]
    }
   ],
   "source": [
    "composer.get_data(config,args=args)"
   ]
  },
  {
   "cell_type": "code",
   "execution_count": 113,
   "id": "ac059791",
   "metadata": {},
   "outputs": [],
   "source": [
    "#composer.prepare_model()\n",
    "#composer._model[\"INIT_MODEL\"].init_model()"
   ]
  },
  {
   "cell_type": "code",
   "execution_count": 114,
   "id": "b8352044",
   "metadata": {},
   "outputs": [
    {
     "data": {
      "text/plain": [
       "'MultiHead Attention LNN'"
      ]
     },
     "execution_count": 114,
     "metadata": {},
     "output_type": "execute_result"
    }
   ],
   "source": [
    "args.model"
   ]
  },
  {
   "cell_type": "code",
   "execution_count": null,
   "id": "edae314b",
   "metadata": {},
   "outputs": [],
   "source": []
  },
  {
   "cell_type": "code",
   "execution_count": 115,
   "id": "3961d45b",
   "metadata": {},
   "outputs": [],
   "source": [
    "index_ref = composer.prepare_cross_validate()"
   ]
  },
  {
   "cell_type": "code",
   "execution_count": 116,
   "id": "3829026b",
   "metadata": {},
   "outputs": [
    {
     "name": "stdout",
     "output_type": "stream",
     "text": [
      "Cross-validate: ([2, 3, 4, 5], [1])\n"
     ]
    }
   ],
   "source": [
    "print(\"Cross-validate: {}\".format(index_ref[0]))"
   ]
  },
  {
   "cell_type": "code",
   "execution_count": 117,
   "id": "f374108c",
   "metadata": {},
   "outputs": [],
   "source": [
    "train_idx,valid_idx = index_ref[0]"
   ]
  },
  {
   "cell_type": "code",
   "execution_count": 118,
   "id": "11646da2",
   "metadata": {},
   "outputs": [
    {
     "name": "stdout",
     "output_type": "stream",
     "text": [
      "Overall population: 4702\n",
      "759 individuals need to be removed due to the miss phenotype\n",
      "Filtered population: 3943\n",
      "Mean of train phenotype: 4.715129635707253\n",
      "Use raw phenotype as the target\n",
      "16    1.0\n",
      "39    3.0\n",
      "44    3.0\n",
      "47    2.0\n",
      "92    3.0\n",
      "Name: 2, dtype: float64\n"
     ]
    }
   ],
   "source": [
    "composer.prepare_training(train_idx,valid_idx)\n",
    "#composer.batchSize = 64"
   ]
  },
  {
   "cell_type": "code",
   "execution_count": 119,
   "id": "a4304d6b",
   "metadata": {},
   "outputs": [],
   "source": [
    "#composer._raw_data[\"GENO\"].iloc[:,6:].describe()"
   ]
  },
  {
   "cell_type": "code",
   "execution_count": 120,
   "id": "3803681a",
   "metadata": {},
   "outputs": [
    {
     "name": "stdout",
     "output_type": "stream",
     "text": [
      "USE LocalRealFormer MODEL as training method\n",
      "Convert data to np.array float32\n",
      "The transformed SNP shape: (3047, 100, 1)\n",
      "The transformed SNP shape: (3047,) <dtype: 'float32'>\n",
      "USE LocalRealFormer MODEL as training method\n",
      "Convert data to np.array float32\n",
      "The transformed SNP shape: (896, 100, 1)\n",
      "The transformed SNP shape: (896,) <dtype: 'float32'>\n",
      "Train status:\n",
      "Epochs:  10\n",
      "Repeat(Round):  1\n",
      "Got input shape: (100, 1)\n",
      "(None, 100, 1)\n",
      "[TensorShape([None, 6, 12])]\n",
      "[TensorShape([None, 6, 12]), TensorShape([None, 6, 12])]\n",
      "Model: \"model\"\n",
      "__________________________________________________________________________________________________\n",
      "Layer (type)                    Output Shape         Param #     Connected to                     \n",
      "==================================================================================================\n",
      "input_layer_1 (InputLayer)      [(None, 100, 1)]     0                                            \n",
      "__________________________________________________________________________________________________\n",
      "snp_block_layer (SNPBlockLayer) (None, 6, 12)        1200        input_layer_1[0][0]              \n",
      "__________________________________________________________________________________________________\n",
      "dense (Dense)                   (None, 6, 12)        156         snp_block_layer[0][0]            \n",
      "__________________________________________________________________________________________________\n",
      "multi_head_qkv__block_attention ((None, 6, 12), (Non 480         dense[0][0]                      \n",
      "__________________________________________________________________________________________________\n",
      "add (Add)                       (None, 6, 12)        0           multi_head_qkv__block_attention[0\n",
      "                                                                 dense[0][0]                      \n",
      "__________________________________________________________________________________________________\n",
      "layer_normalization (LayerNorma (None, 6, 12)        24          add[0][0]                        \n",
      "__________________________________________________________________________________________________\n",
      "dense_1 (Dense)                 (None, 6, 12)        156         layer_normalization[0][0]        \n",
      "__________________________________________________________________________________________________\n",
      "add_1 (Add)                     (None, 6, 12)        0           dense_1[0][0]                    \n",
      "                                                                 layer_normalization[0][0]        \n",
      "__________________________________________________________________________________________________\n",
      "activation (Activation)         (None, 6, 12)        0           add_1[0][0]                      \n",
      "__________________________________________________________________________________________________\n",
      "multi_head_qkv__block_attention ((None, 6, 12), (Non 480         activation[0][0]                 \n",
      "                                                                 multi_head_qkv__block_attention[0\n",
      "__________________________________________________________________________________________________\n",
      "add_2 (Add)                     (None, 6, 12)        0           multi_head_qkv__block_attention_1\n",
      "                                                                 activation[0][0]                 \n",
      "__________________________________________________________________________________________________\n",
      "layer_normalization_1 (LayerNor (None, 6, 12)        24          add_2[0][0]                      \n",
      "__________________________________________________________________________________________________\n",
      "dense_2 (Dense)                 (None, 6, 12)        156         layer_normalization_1[0][0]      \n",
      "__________________________________________________________________________________________________\n",
      "add_3 (Add)                     (None, 6, 12)        0           dense_2[0][0]                    \n",
      "                                                                 layer_normalization_1[0][0]      \n",
      "__________________________________________________________________________________________________\n",
      "activation_1 (Activation)       (None, 6, 12)        0           add_3[0][0]                      \n",
      "__________________________________________________________________________________________________\n",
      "flatten (Flatten)               (None, 72)           0           activation_1[0][0]               \n",
      "__________________________________________________________________________________________________\n",
      "dropout (Dropout)               (None, 72)           0           flatten[0][0]                    \n",
      "__________________________________________________________________________________________________\n",
      "dense_3 (Dense)                 (None, 64)           4672        dropout[0][0]                    \n",
      "__________________________________________________________________________________________________\n",
      "dense_4 (Dense)                 (None, 64)           4160        dense_3[0][0]                    \n",
      "__________________________________________________________________________________________________\n",
      "add_4 (Add)                     (None, 64)           0           dense_3[0][0]                    \n",
      "                                                                 dense_4[0][0]                    \n",
      "__________________________________________________________________________________________________\n",
      "activation_2 (Activation)       (None, 64)           0           add_4[0][0]                      \n",
      "__________________________________________________________________________________________________\n",
      "dense_5 (Dense)                 (None, 64)           4160        activation_2[0][0]               \n",
      "__________________________________________________________________________________________________\n",
      "activation_3 (Activation)       (None, 64)           0           dense_5[0][0]                    \n",
      "__________________________________________________________________________________________________\n",
      "dense_6 (Dense)                 (None, 1)            65          activation_3[0][0]               \n",
      "==================================================================================================\n",
      "Total params: 15,733\n",
      "Trainable params: 15,733\n",
      "Non-trainable params: 0\n",
      "__________________________________________________________________________________________________\n",
      "None\n",
      "Epoch 1/10\n",
      " 3/96 [..............................] - ETA: 5s - loss: 11.1548 - acc: 0.0417"
     ]
    },
    {
     "name": "stderr",
     "output_type": "stream",
     "text": [
      "F:\\miniconda\\envs\\tf25\\lib\\site-packages\\tensorflow\\python\\data\\ops\\dataset_ops.py:3704: UserWarning: Even though the `tf.config.experimental_run_functions_eagerly` option is set, this option does not apply to tf.data functions. To force eager execution of tf.data functions, please use `tf.data.experimental.enable.debug_mode()`.\n",
      "  \"Even though the `tf.config.experimental_run_functions_eagerly` \"\n"
     ]
    },
    {
     "name": "stdout",
     "output_type": "stream",
     "text": [
      "96/96 [==============================] - 5s 54ms/step - loss: 7.3979 - acc: 0.0309 - val_loss: 4.2612 - val_acc: 0.0190\n",
      "Epoch 2/10\n",
      "96/96 [==============================] - 5s 49ms/step - loss: 6.2461 - acc: 0.0309 - val_loss: 3.9405 - val_acc: 0.0190\n",
      "Epoch 3/10\n",
      "96/96 [==============================] - 5s 50ms/step - loss: 5.8031 - acc: 0.0309 - val_loss: 3.9215 - val_acc: 0.0190\n",
      "Epoch 4/10\n",
      "96/96 [==============================] - 5s 49ms/step - loss: 5.6474 - acc: 0.0309 - val_loss: 4.1741 - val_acc: 0.0190\n",
      "Epoch 5/10\n",
      "96/96 [==============================] - 5s 51ms/step - loss: 5.5341 - acc: 0.0309 - val_loss: 3.9421 - val_acc: 0.0190\n",
      "Epoch 6/10\n",
      "96/96 [==============================] - 5s 51ms/step - loss: 5.4813 - acc: 0.0309 - val_loss: 4.0100 - val_acc: 0.0190\n",
      "Epoch 7/10\n",
      "96/96 [==============================] - 5s 50ms/step - loss: 5.3918 - acc: 0.0309 - val_loss: 4.1119 - val_acc: 0.0190\n",
      "Epoch 8/10\n",
      "96/96 [==============================] - 5s 51ms/step - loss: 5.3454 - acc: 0.0309 - val_loss: 3.9878 - val_acc: 0.0190\n",
      "Epoch 9/10\n",
      "96/96 [==============================] - 5s 52ms/step - loss: 5.3159 - acc: 0.0309 - val_loss: 4.7396 - val_acc: 0.0190\n",
      "Epoch 10/10\n",
      "96/96 [==============================] - 5s 54ms/step - loss: 5.2815 - acc: 0.0309 - val_loss: 3.9058 - val_acc: 0.0190\n",
      " - train loss     : 5.281472682952881\n",
      " - validation loss: 3.9058268070220947\n",
      " - loss decrease rate in last 5 epochs: -0.09401805400848388\n",
      " - Actual Training epochs:  10\n",
      "Train End.\n",
      "In-year accuracy (measured as Pearson's correlation) is:  0.31511988498361476\n",
      "Training Runtime:  0.8333333333333334  min\n",
      "Currently using GPU memory: 0.000348672 GB\n",
      "USE LocalRealFormer MODEL as training method\n",
      "Convert data to np.array float32\n",
      "The transformed SNP shape: (896, 100, 1)\n",
      "The transformed SNP shape: (896,) <dtype: 'float32'>\n",
      "Predicting valid set..\n",
      "Testing prediction:\n",
      "Predicted:  [[3.510423 ]\n",
      " [3.509733 ]\n",
      " [4.0989733]\n",
      " [3.5865848]\n",
      " [4.2454867]\n",
      " [3.4940386]\n",
      " [3.4395618]\n",
      " [3.5975156]\n",
      " [3.7031922]\n",
      " [3.4919791]]\n",
      "observed:  tf.Tensor([1. 3. 3. 2. 3. 4. 2. 3. 3. 4.], shape=(10,), dtype=float32)\n",
      "Observation mean: 3.9140625 Var: 3.862034320831299\n",
      "Prediction mean: 3.689682722091675 Var: 0.1708098202943802\n",
      "Validate prediction accuracy (measured as Pearson's correlation) is:  0.10918657373310789\n",
      "Saving the model with higher accuracy...\n",
      "INFO:tensorflow:Assets written to: C:\\Users\\uqcche32\\OneDrive - The University of Queensland\\PhD\\HPC_Results\\Sugarcane_disease\\ML\\Attention_Test_win/smut_MultiHeadAttentionLNN_1\\assets\n"
     ]
    },
    {
     "name": "stderr",
     "output_type": "stream",
     "text": [
      "F:\\miniconda\\envs\\tf25\\lib\\site-packages\\tensorflow\\python\\keras\\utils\\generic_utils.py:497: CustomMaskWarning: Custom mask layers require a config and must override get_config. When loading, the custom mask layer must be passed to the custom_objects argument.\n",
      "  category=CustomMaskWarning)\n"
     ]
    },
    {
     "name": "stdout",
     "output_type": "stream",
     "text": [
      "Model saved.\n",
      "Resource check:\n",
      "Total memory: 31.7264 GB\n",
      "Currently using memory: 1.7217 GB\n",
      "Ratio of used memory: 30.8000  %\n",
      "Number of CPU node:  16\n",
      "Plotting the training process...\n",
      "C:\\Users\\uqcche32\\OneDrive - The University of Queensland\\PhD\\HPC_Results\\Sugarcane_disease\\ML\\Attention_Test_win/smut_MultiHeadAttentionLNN_smut\n",
      "Plotting loss history...\n",
      "Plot name:  C:\\Users\\uqcche32\\OneDrive - The University of Queensland\\PhD\\HPC_Results\\Sugarcane_disease\\ML\\Attention_Test_win/smut_MultiHeadAttentionLNN_smut/smut_MultiHeadAttentionLNN_1.png\n",
      "Result:\n",
      "  Trait      TrainSet ValidSet                  Model  Test_Accuracy  \\\n",
      "0  smut  [2, 3, 4, 5]      [1]  MultiHeadAttentionLNN        0.31512   \n",
      "\n",
      "   Valid_Accuracy       MSE   Runtime  \n",
      "0        0.109187  3.905827  0.833333  \n"
     ]
    }
   ],
   "source": [
    "composer.compose(train_idx,valid_idx)"
   ]
  },
  {
   "cell_type": "code",
   "execution_count": 121,
   "id": "07e3b9e6",
   "metadata": {},
   "outputs": [
    {
     "name": "stdout",
     "output_type": "stream",
     "text": [
      "INFO:tensorflow:Assets written to: ./test_model\\assets\n"
     ]
    },
    {
     "name": "stderr",
     "output_type": "stream",
     "text": [
      "F:\\miniconda\\envs\\tf25\\lib\\site-packages\\tensorflow\\python\\keras\\utils\\generic_utils.py:497: CustomMaskWarning: Custom mask layers require a config and must override get_config. When loading, the custom mask layer must be passed to the custom_objects argument.\n",
      "  category=CustomMaskWarning)\n"
     ]
    },
    {
     "name": "stdout",
     "output_type": "stream",
     "text": [
      "Default GPU Device:/device:GPU:0\n"
     ]
    }
   ],
   "source": [
    "composer._model[\"TRAINED_MODEL\"].save(\"./test_model\")\n",
    "\n",
    "#import tensorflow as tf \n",
    "\n",
    "if tf.test.gpu_device_name(): \n",
    "    print('Default GPU Device:{}'.format(tf.test.gpu_device_name()))\n",
    "else:\n",
    "    print(\"Please install GPU version of TF\")"
   ]
  },
  {
   "cell_type": "code",
   "execution_count": null,
   "id": "4a24b9fa",
   "metadata": {},
   "outputs": [],
   "source": [
    "1.5//1"
   ]
  },
  {
   "cell_type": "code",
   "execution_count": null,
   "id": "ed9e71b9",
   "metadata": {},
   "outputs": [],
   "source": [
    "os.getcwd()"
   ]
  },
  {
   "cell_type": "code",
   "execution_count": null,
   "id": "78368265",
   "metadata": {},
   "outputs": [],
   "source": []
  },
  {
   "cell_type": "code",
   "execution_count": null,
   "id": "0d4e736b",
   "metadata": {},
   "outputs": [],
   "source": []
  },
  {
   "cell_type": "code",
   "execution_count": null,
   "id": "715bfd3b",
   "metadata": {},
   "outputs": [],
   "source": []
  },
  {
   "cell_type": "code",
   "execution_count": null,
   "id": "b7b9066a",
   "metadata": {},
   "outputs": [],
   "source": [
    "index_ref = composer.prepare_cross_validate()\n",
    "i = 1\n",
    "for train_idx,valid_idx in index_ref:\n",
    "    print(\"Cross-validate: {}\".format(i))\n",
    "    composer.prepare_training(train_idx,valid_idx)\n",
    "    composer.compose(train_idx,valid_idx)\n",
    "    i+=1"
   ]
  }
 ],
 "metadata": {
  "kernelspec": {
   "display_name": "Python 3 (ipykernel)",
   "language": "python",
   "name": "python3"
  },
  "language_info": {
   "codemirror_mode": {
    "name": "ipython",
    "version": 3
   },
   "file_extension": ".py",
   "mimetype": "text/x-python",
   "name": "python",
   "nbconvert_exporter": "python",
   "pygments_lexer": "ipython3",
   "version": "3.7.12"
  }
 },
 "nbformat": 4,
 "nbformat_minor": 5
}
