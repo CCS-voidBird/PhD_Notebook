{
 "cells": [
  {
   "cell_type": "code",
   "execution_count": 1,
   "id": "b957ff58",
   "metadata": {},
   "outputs": [],
   "source": [
    "from sklearn.ensemble import RandomForestRegressor\n",
    "import joblib\n",
    "import pandas as pd\n",
    "# import plt\n",
    "import matplotlib.pyplot as plt"
   ]
  },
  {
   "cell_type": "code",
   "execution_count": 2,
   "id": "2109483a",
   "metadata": {},
   "outputs": [],
   "source": [
    "user_profile = \"C:/Users/uqcche32/OneDrive - The University of Queensland/PhD/HPC_Results/sugarcane_disease/ML/\"\n"
   ]
  },
  {
   "cell_type": "code",
   "execution_count": 6,
   "id": "74b57fec",
   "metadata": {},
   "outputs": [
    {
     "name": "stdout",
     "output_type": "stream",
     "text": [
      "(26086,)\n",
      "(26086,)\n",
      "(26086,)\n",
      "(26086,)\n",
      "(26086,)\n",
      "(26086,)\n",
      "(26086,)\n",
      "(26086,)\n",
      "(26086,)\n",
      "(26086,)\n",
      "(10, 26088)\n"
     ]
    }
   ],
   "source": [
    "traits = [\"smut\",\"pachy\"]\n",
    "regions = [1,2,3,4,5] # ,\"A\",\"N\",\"S\",\"C\"]\n",
    "importances = []\n",
    "combos = []\n",
    "for trait in traits:\n",
    "    for val in regions:\n",
    "        combos = combos + [(trait,val)]\n",
    "        # Load the model\n",
    "        model = joblib.load(user_profile+\"disease_RF_new/\"+trait+\"_RF_\"+str(val)+\".json\")\n",
    "        # Get the feature importances as list with its trait and region\n",
    "        importances.append([trait,val]+list(model.feature_importances_))\n",
    "        print(model.feature_importances_.shape)\n",
    "\n",
    "# Convert to dataframe\n",
    "importances = pd.DataFrame(importances,columns=[\"Trait\",\"Region\"]+list(range(1,model.feature_importances_.shape[0]+1)))\n",
    "print(importances.shape)\n",
    "# write to csv by tab\n",
    "#importances.to_csv(\"E:/learning resource/OneDrive - The University of Queensland/PhD/HPC_Results/RF_blue/2016to2017/models/RF_SNP_importances.csv\",sep=\"\\t\",index=False)"
   ]
  },
  {
   "cell_type": "code",
   "execution_count": 7,
   "id": "93a35960",
   "metadata": {},
   "outputs": [],
   "source": [
    "output_path = user_profile + \"disease_RF_new/\"+trait+\"_RF_\"+\"important\"+\".csv\"\n",
    "importances.to_csv(output_path,sep=\"\\t\",index=False)"
   ]
  },
  {
   "cell_type": "code",
   "execution_count": 9,
   "id": "16f0768a",
   "metadata": {},
   "outputs": [
    {
     "data": {
      "text/html": [
       "<div>\n",
       "<style scoped>\n",
       "    .dataframe tbody tr th:only-of-type {\n",
       "        vertical-align: middle;\n",
       "    }\n",
       "\n",
       "    .dataframe tbody tr th {\n",
       "        vertical-align: top;\n",
       "    }\n",
       "\n",
       "    .dataframe thead th {\n",
       "        text-align: right;\n",
       "    }\n",
       "</style>\n",
       "<table border=\"1\" class=\"dataframe\">\n",
       "  <thead>\n",
       "    <tr style=\"text-align: right;\">\n",
       "      <th></th>\n",
       "      <th>Trait</th>\n",
       "      <th>Region</th>\n",
       "    </tr>\n",
       "  </thead>\n",
       "  <tbody>\n",
       "    <tr>\n",
       "      <th>0</th>\n",
       "      <td>smut</td>\n",
       "      <td>1</td>\n",
       "    </tr>\n",
       "    <tr>\n",
       "      <th>1</th>\n",
       "      <td>smut</td>\n",
       "      <td>2</td>\n",
       "    </tr>\n",
       "    <tr>\n",
       "      <th>2</th>\n",
       "      <td>smut</td>\n",
       "      <td>3</td>\n",
       "    </tr>\n",
       "    <tr>\n",
       "      <th>3</th>\n",
       "      <td>smut</td>\n",
       "      <td>4</td>\n",
       "    </tr>\n",
       "    <tr>\n",
       "      <th>4</th>\n",
       "      <td>smut</td>\n",
       "      <td>5</td>\n",
       "    </tr>\n",
       "    <tr>\n",
       "      <th>5</th>\n",
       "      <td>pachy</td>\n",
       "      <td>1</td>\n",
       "    </tr>\n",
       "    <tr>\n",
       "      <th>6</th>\n",
       "      <td>pachy</td>\n",
       "      <td>2</td>\n",
       "    </tr>\n",
       "    <tr>\n",
       "      <th>7</th>\n",
       "      <td>pachy</td>\n",
       "      <td>3</td>\n",
       "    </tr>\n",
       "    <tr>\n",
       "      <th>8</th>\n",
       "      <td>pachy</td>\n",
       "      <td>4</td>\n",
       "    </tr>\n",
       "    <tr>\n",
       "      <th>9</th>\n",
       "      <td>pachy</td>\n",
       "      <td>5</td>\n",
       "    </tr>\n",
       "  </tbody>\n",
       "</table>\n",
       "</div>"
      ],
      "text/plain": [
       "   Trait  Region\n",
       "0   smut       1\n",
       "1   smut       2\n",
       "2   smut       3\n",
       "3   smut       4\n",
       "4   smut       5\n",
       "5  pachy       1\n",
       "6  pachy       2\n",
       "7  pachy       3\n",
       "8  pachy       4\n",
       "9  pachy       5"
      ]
     },
     "execution_count": 9,
     "metadata": {},
     "output_type": "execute_result"
    }
   ],
   "source": [
    "importances.iloc[:,:2]"
   ]
  },
  {
   "cell_type": "code",
   "execution_count": null,
   "id": "103cf0fa",
   "metadata": {},
   "outputs": [],
   "source": []
  },
  {
   "cell_type": "code",
   "execution_count": null,
   "id": "aabd0b32",
   "metadata": {},
   "outputs": [],
   "source": []
  }
 ],
 "metadata": {
  "kernelspec": {
   "display_name": "Python 3 (ipykernel)",
   "language": "python",
   "name": "python3"
  },
  "language_info": {
   "codemirror_mode": {
    "name": "ipython",
    "version": 3
   },
   "file_extension": ".py",
   "mimetype": "text/x-python",
   "name": "python",
   "nbconvert_exporter": "python",
   "pygments_lexer": "ipython3",
   "version": "3.7.12"
  }
 },
 "nbformat": 4,
 "nbformat_minor": 5
}
