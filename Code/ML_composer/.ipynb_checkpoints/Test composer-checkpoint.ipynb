{
 "cells": [
  {
   "cell_type": "markdown",
   "id": "42b9bef8",
   "metadata": {},
   "source": [
    "TEST ML_composer \n"
   ]
  },
  {
   "cell_type": "code",
   "execution_count": 1,
   "id": "ec965f08",
   "metadata": {},
   "outputs": [
    {
     "name": "stdout",
     "output_type": "stream",
     "text": [
      "WARNING:tensorflow:From F:\\PhD_Notebook\\Code\\ML_composer\\CustomLayers.py:8: experimental_run_functions_eagerly (from tensorflow.python.eager.def_function) is deprecated and will be removed in a future version.\n",
      "Instructions for updating:\n",
      "Use `tf.config.run_functions_eagerly` instead of the experimental version.\n"
     ]
    }
   ],
   "source": [
    "import os\n",
    "from GS_composer import *\n",
    "tf.config.run_functions_eagerly(True)"
   ]
  },
  {
   "cell_type": "code",
   "execution_count": 2,
   "id": "ce5bd3d1",
   "metadata": {},
   "outputs": [
    {
     "name": "stdout",
     "output_type": "stream",
     "text": [
      "PhysicalDevice(name='/physical_device:GPU:0', device_type='GPU')\n"
     ]
    }
   ],
   "source": [
    "physical_devices = tf.config.list_physical_devices('GPU')\n",
    "if physical_devices:\n",
    "    gpu = physical_devices[0]\n",
    "    print(gpu)\n",
    "    assert gpu.device_type == 'GPU'"
   ]
  },
  {
   "cell_type": "code",
   "execution_count": 3,
   "id": "f53b80eb",
   "metadata": {},
   "outputs": [
    {
     "name": "stdout",
     "output_type": "stream",
     "text": [
      "F:\\PhD_Notebook\\Code\\ML_composer\n"
     ]
    }
   ],
   "source": [
    "import os\n",
    "print(os.getcwd())\n",
    "#os.chdir(\"F:/project/sugarcane_disease/\")\n",
    "#os.chdir(\"O:/project/sugarcane_disease/\")\n",
    "os.getcwd()\n",
    "os.environ[\"KMP_DUPLICATE_LIB_OK\"]=\"TRUE\"\n",
    "user_profile = \"C:/Users/uqcche32/OneDrive - The University of Queensland/PhD/data/\"\n",
    "#user_profile = \"H:/Data/\"\n",
    "#os.chdir(\"E:/learning resource/OneDrive - The University of Queensland/PhD/HPC_Results/Sugarcane_disease/ML/\")\n",
    "#os.chdir(\"C:/Users/uqcche32/OneDrive - The University of Queensland/PhD/HPC_Results/Sugarcane_disease/ML/\")"
   ]
  },
  {
   "cell_type": "code",
   "execution_count": 4,
   "id": "78179902",
   "metadata": {},
   "outputs": [
    {
     "data": {
      "text/plain": [
       "{'device_name': 'NVIDIA T1200 Laptop GPU', 'compute_capability': (7, 5)}"
      ]
     },
     "execution_count": 4,
     "metadata": {},
     "output_type": "execute_result"
    }
   ],
   "source": [
    "tf.config.experimental.get_device_details(gpu)"
   ]
  },
  {
   "cell_type": "code",
   "execution_count": 5,
   "id": "c5b0a862",
   "metadata": {},
   "outputs": [],
   "source": [
    "from ClassModel import *\n",
    "from CustomLayers import *"
   ]
  },
  {
   "cell_type": "code",
   "execution_count": 6,
   "id": "af654204",
   "metadata": {},
   "outputs": [],
   "source": [
    "from Functions import *"
   ]
  },
  {
   "cell_type": "code",
   "execution_count": 7,
   "id": "1f856e93",
   "metadata": {},
   "outputs": [],
   "source": [
    "class p_args:\n",
    "    \n",
    "    def __init__(self):\n",
    "        \n",
    "        self.ped = user_profile +\"sugarcane_disease/subset/disease_subset\"\n",
    "        self.pheno = user_profile +\"sugarcane_disease/subset/disease_subset.phen\"\n",
    "        self.mpheno = 1\n",
    "        self.index = user_profile +\"sugarcane_disease/subset/disease_subset.index\"\n",
    "        self.model = \"MultiLevel Attention\"\n",
    "        self.annotation = None #user_profile +\"sugarcane_disease/subset/disease_subset.anno\"\n",
    "        self.trait = \"smut\"\n",
    "        self.output = \"../Attention_Test_win\"\n",
    "        \n",
    "        self.load = None\n",
    "        self.save = True\n",
    "        self.plot = True\n",
    "        self.loss = \"mae\"\n",
    "        \n",
    "        self.round = 1\n",
    "        self.epoch = 5\n",
    "        self.rank =False\n",
    "        self.lr = 0.0001\n",
    "        self.batch = 32\n",
    "        self.mean = False\n",
    "        self.width = 64\n",
    "        self.depth = 2\n",
    "        self.quiet = 1\n",
    "        self.num_heads = 1\n",
    "        self.residual = True\n",
    "        self.embedding = 12\n",
    "        self.locallyConnect = 12\n",
    "        self.data_type = \"numerous\"\n",
    "        self.activation = \"linear\"\n",
    "        self.loss = \"mae\"\n",
    "        self.classes = 0\n",
    "        \n",
    "        \n",
    "args = p_args()"
   ]
  },
  {
   "cell_type": "code",
   "execution_count": 8,
   "id": "543e6b9e",
   "metadata": {},
   "outputs": [],
   "source": [
    "config = None\n"
   ]
  },
  {
   "cell_type": "code",
   "execution_count": 9,
   "id": "022829e7",
   "metadata": {},
   "outputs": [],
   "source": [
    "if args.output[0] == \"/\":\n",
    "    locat = '/' + args.output.strip('/') + '/'\n",
    "else:\n",
    "    locat = args.output.strip('/') + '/'\n",
    "if not os.path.exists(locat):\n",
    "    os.mkdir(locat)"
   ]
  },
  {
   "cell_type": "code",
   "execution_count": 10,
   "id": "d9730339",
   "metadata": {},
   "outputs": [],
   "source": [
    "composer = ML_composer()\n",
    "composer._model\n",
    "composer.silence_mode = 2"
   ]
  },
  {
   "cell_type": "code",
   "execution_count": 11,
   "id": "164ed974",
   "metadata": {},
   "outputs": [],
   "source": [
    "#composer.get_data(config,args)\n",
    "composer.args = args"
   ]
  },
  {
   "cell_type": "code",
   "execution_count": 12,
   "id": "1f6dc0d4",
   "metadata": {},
   "outputs": [
    {
     "name": "stdout",
     "output_type": "stream",
     "text": [
      "1    939\n",
      "3    940\n",
      "4    940\n",
      "2    940\n",
      "5    943\n",
      "Name: 2, dtype: int64\n",
      "Get genotype shape: (4702, 100)\n",
      "   7   8   9   10  11  12  13  14  15\n",
      "1   0   2   0   1   2   1   0   1   2\n",
      "2   1   2   1   1   2   1   0   1   1\n",
      "3   1   2   0   0   1   0   1   1   2\n",
      "4   1   2   0   0   1   0   1   1   2\n",
      "5   0   2   1   1   2   0   2   1   1\n",
      "6   0   2   0   1   2   1   0   1   2\n",
      "7   1   2   1   1   2   1   2   1   2\n",
      "8   0   2   0   1   1   0   1   0   2\n",
      "9   1   2   1   1   2   1   2   1   2\n",
      "Running data check\n",
      "GENO\n",
      "FAM\n",
      "PHENO\n",
      "INDEX\n"
     ]
    }
   ],
   "source": [
    "composer.get_data(config,args=args)"
   ]
  },
  {
   "cell_type": "code",
   "execution_count": 13,
   "id": "ac059791",
   "metadata": {},
   "outputs": [],
   "source": [
    "#composer.prepare_model()\n",
    "#composer._model[\"INIT_MODEL\"].init_model()"
   ]
  },
  {
   "cell_type": "code",
   "execution_count": 14,
   "id": "b8352044",
   "metadata": {},
   "outputs": [
    {
     "data": {
      "text/plain": [
       "'MultiLevel Attention'"
      ]
     },
     "execution_count": 14,
     "metadata": {},
     "output_type": "execute_result"
    }
   ],
   "source": [
    "args.model"
   ]
  },
  {
   "cell_type": "code",
   "execution_count": null,
   "id": "edae314b",
   "metadata": {},
   "outputs": [],
   "source": []
  },
  {
   "cell_type": "code",
   "execution_count": 15,
   "id": "3961d45b",
   "metadata": {},
   "outputs": [],
   "source": [
    "index_ref = composer.prepare_cross_validate()"
   ]
  },
  {
   "cell_type": "code",
   "execution_count": 16,
   "id": "3829026b",
   "metadata": {},
   "outputs": [
    {
     "name": "stdout",
     "output_type": "stream",
     "text": [
      "Cross-validate: ([2, 3, 4, 5], [1])\n"
     ]
    }
   ],
   "source": [
    "print(\"Cross-validate: {}\".format(index_ref[0]))"
   ]
  },
  {
   "cell_type": "code",
   "execution_count": 17,
   "id": "f374108c",
   "metadata": {},
   "outputs": [],
   "source": [
    "train_idx,valid_idx = index_ref[0]"
   ]
  },
  {
   "cell_type": "code",
   "execution_count": 18,
   "id": "11646da2",
   "metadata": {},
   "outputs": [
    {
     "name": "stdout",
     "output_type": "stream",
     "text": [
      "Overall population: 4702\n",
      "759 individuals need to be removed due to the miss phenotype\n",
      "Filtered population: 3943\n",
      "Mean of train phenotype: 4.715129635707253\n",
      "Use raw phenotype as the target\n",
      "16    1.0\n",
      "39    3.0\n",
      "44    3.0\n",
      "47    2.0\n",
      "92    3.0\n",
      "Name: 2, dtype: float64\n"
     ]
    }
   ],
   "source": [
    "composer.prepare_training(train_idx,valid_idx)\n",
    "#composer.batchSize = 64"
   ]
  },
  {
   "cell_type": "code",
   "execution_count": 19,
   "id": "a4304d6b",
   "metadata": {},
   "outputs": [],
   "source": [
    "#composer._raw_data[\"GENO\"].iloc[:,6:].describe()"
   ]
  },
  {
   "cell_type": "code",
   "execution_count": 20,
   "id": "3803681a",
   "metadata": {},
   "outputs": [
    {
     "name": "stdout",
     "output_type": "stream",
     "text": [
      "USE Attention CNN MODEL as training method\n",
      "Convert data to np.array float32\n",
      "The transformed SNP shape: (3047, 100, 1)\n",
      "USE Attention CNN MODEL as training method\n",
      "Convert data to np.array float32\n",
      "The transformed SNP shape: (896, 100, 1)\n",
      "Train status:\n",
      "Epochs:  5\n",
      "Repeat(Round):  1\n",
      "Got input shape: (100, 1)\n",
      "(None, 100, 1)\n",
      "(None, 10, 12)\n",
      "From model\n",
      "(None, 10, 12)\n",
      "From model\n",
      "Model: \"model\"\n",
      "__________________________________________________________________________________________________\n",
      "Layer (type)                    Output Shape         Param #     Connected to                     \n",
      "==================================================================================================\n",
      "input_layer_1 (InputLayer)      [(None, 100, 1)]     0                                            \n",
      "__________________________________________________________________________________________________\n",
      "zero_padding1d (ZeroPadding1D)  (None, 101, 1)       0           input_layer_1[0][0]              \n",
      "__________________________________________________________________________________________________\n",
      "locally_connected1d (LocallyCon (None, 10, 12)       1200        zero_padding1d[0][0]             \n",
      "__________________________________________________________________________________________________\n",
      "dense (Dense)                   (None, 10, 12)       156         locally_connected1d[0][0]        \n",
      "__________________________________________________________________________________________________\n",
      "multi_level__block_attention (M ((None, 10, 12), (No 572         dense[0][0]                      \n",
      "__________________________________________________________________________________________________\n",
      "conv1d (Conv1D)                 (None, 10, 1)        12          multi_level__block_attention[0][0\n",
      "__________________________________________________________________________________________________\n",
      "activation (Activation)         (None, 10, 1)        0           conv1d[0][0]                     \n",
      "__________________________________________________________________________________________________\n",
      "global_average_pooling1d (Globa (None, 1)            0           conv1d[0][0]                     \n",
      "__________________________________________________________________________________________________\n",
      "flatten (Flatten)               (None, 10)           0           activation[0][0]                 \n",
      "__________________________________________________________________________________________________\n",
      "flatten_1 (Flatten)             (None, 1)            0           global_average_pooling1d[0][0]   \n",
      "__________________________________________________________________________________________________\n",
      "dense_1 (Dense)                 (None, 1)            11          flatten[0][0]                    \n",
      "__________________________________________________________________________________________________\n",
      "add (Add)                       (None, 1)            0           flatten_1[0][0]                  \n",
      "                                                                 dense_1[0][0]                    \n",
      "==================================================================================================\n",
      "Total params: 1,951\n",
      "Trainable params: 1,951\n",
      "Non-trainable params: 0\n",
      "__________________________________________________________________________________________________\n",
      "None\n",
      "Epoch 1/5\n"
     ]
    },
    {
     "name": "stderr",
     "output_type": "stream",
     "text": [
      "F:\\miniconda\\envs\\tf25\\lib\\site-packages\\tensorflow\\python\\data\\ops\\dataset_ops.py:3704: UserWarning: Even though the `tf.config.experimental_run_functions_eagerly` option is set, this option does not apply to tf.data functions. To force eager execution of tf.data functions, please use `tf.data.experimental.enable.debug_mode()`.\n",
      "  \"Even though the `tf.config.experimental_run_functions_eagerly` \"\n"
     ]
    },
    {
     "name": "stdout",
     "output_type": "stream",
     "text": [
      "96/96 [==============================] - 4s 33ms/step - loss: 18.0698 - acc: 0.0207 - val_loss: 4.4438 - val_acc: 0.0190\n",
      "Epoch 2/5\n",
      "96/96 [==============================] - 3s 32ms/step - loss: 5.4989 - acc: 0.0309 - val_loss: 4.3959 - val_acc: 0.0190\n",
      "Epoch 3/5\n",
      "96/96 [==============================] - 3s 31ms/step - loss: 5.4072 - acc: 0.0309 - val_loss: 4.1393 - val_acc: 0.0190\n",
      "Epoch 4/5\n",
      "96/96 [==============================] - 3s 32ms/step - loss: 5.3418 - acc: 0.0309 - val_loss: 4.1936 - val_acc: 0.0190\n",
      "Epoch 5/5\n",
      "96/96 [==============================] - 3s 32ms/step - loss: 5.2561 - acc: 0.0309 - val_loss: 4.5070 - val_acc: 0.0190\n",
      " - train loss     : 5.2561140060424805\n",
      " - validation loss: 4.506989002227783\n",
      " - loss decrease rate in last 5 epochs: 0.0391693115234375\n",
      " - Actual Training epochs:  5\n",
      "Train End.\n",
      "In-year accuracy (measured as Pearson's correlation) is:  0.23348971158315307\n",
      "Training Runtime:  0.26666666666666666  min\n",
      "WARNING:tensorflow:From F:\\PhD_Notebook\\Code\\ML_composer\\GS_composer.py:328: get_memory_usage (from tensorflow.python.framework.config) is deprecated and will be removed in a future version.\n",
      "Instructions for updating:\n",
      "Use tf.config.experimental.get_memory_info(device)['current'] instead.\n",
      "Currently using GPU memory: 3.456e-05 GB\n",
      "USE Attention CNN MODEL as training method\n",
      "Convert data to np.array float32\n",
      "The transformed SNP shape: (896, 100, 1)\n",
      "Predicting valid set..\n",
      "Testing prediction:\n",
      "Predicted:  [[3.2491322]\n",
      " [4.1723084]\n",
      " [4.3099475]\n",
      " [4.1517353]\n",
      " [4.3393583]\n",
      " [4.3474617]\n",
      " [3.9723902]\n",
      " [4.4532022]\n",
      " [4.9227037]\n",
      " [4.3911247]]\n",
      "observed:  [1. 3. 3. 2. 3. 4. 2. 3. 3. 4.]\n",
      "Observation mean: 3.9140625 Var: 3.862034320831299\n",
      "Prediction mean: 4.603847026824951 Var: 0.1988876610994339\n",
      "Validate prediction accuracy (measured as Pearson's correlation) is:  0.01696431637464462\n",
      "Saving the model with higher accuracy...\n"
     ]
    },
    {
     "name": "stderr",
     "output_type": "stream",
     "text": [
      "F:\\miniconda\\envs\\tf25\\lib\\site-packages\\tensorflow\\python\\keras\\utils\\generic_utils.py:497: CustomMaskWarning: Custom mask layers require a config and must override get_config. When loading, the custom mask layer must be passed to the custom_objects argument.\n",
      "  category=CustomMaskWarning)\n"
     ]
    },
    {
     "name": "stdout",
     "output_type": "stream",
     "text": [
      "INFO:tensorflow:Assets written to: F:\\PhD_Notebook\\Code\\Attention_Test_win/smut_MultiLevelAttention_1\\assets\n",
      "Model saved.\n",
      "Resource check:\n",
      "Total memory: 31.7264 GB\n",
      "Currently using memory: 1.4326 GB\n",
      "Ratio of used memory: 41.1000  %\n",
      "Number of CPU node:  16\n",
      "Plotting the training process...\n",
      "F:\\PhD_Notebook\\Code\\Attention_Test_win/smut_MultiLevelAttention_smut\n",
      "Plotting loss history...\n",
      "Plot name:  F:\\PhD_Notebook\\Code\\Attention_Test_win/smut_MultiLevelAttention_smut/smut_MultiLevelAttention_1.png\n",
      "Result:\n",
      "  Trait      TrainSet ValidSet                Model  Test_Accuracy  \\\n",
      "0  smut  [2, 3, 4, 5]      [1]  MultiLevelAttention        0.23349   \n",
      "\n",
      "   Valid_Accuracy       mae   Runtime  \n",
      "0        0.016964  4.506989  0.266667  \n"
     ]
    }
   ],
   "source": [
    "composer.compose(train_idx,valid_idx)"
   ]
  },
  {
   "cell_type": "code",
   "execution_count": 21,
   "id": "07e3b9e6",
   "metadata": {},
   "outputs": [
    {
     "name": "stdout",
     "output_type": "stream",
     "text": [
      "INFO:tensorflow:Assets written to: ./test_model\\assets\n"
     ]
    },
    {
     "name": "stderr",
     "output_type": "stream",
     "text": [
      "F:\\miniconda\\envs\\tf25\\lib\\site-packages\\tensorflow\\python\\keras\\utils\\generic_utils.py:497: CustomMaskWarning: Custom mask layers require a config and must override get_config. When loading, the custom mask layer must be passed to the custom_objects argument.\n",
      "  category=CustomMaskWarning)\n"
     ]
    },
    {
     "name": "stdout",
     "output_type": "stream",
     "text": [
      "Default GPU Device:/device:GPU:0\n"
     ]
    }
   ],
   "source": [
    "composer._model[\"TRAINED_MODEL\"].save(\"./test_model\")\n",
    "\n",
    "#import tensorflow as tf \n",
    "\n",
    "if tf.test.gpu_device_name(): \n",
    "    print('Default GPU Device:{}'.format(tf.test.gpu_device_name()))\n",
    "else:\n",
    "    print(\"Please install GPU version of TF\")"
   ]
  },
  {
   "cell_type": "code",
   "execution_count": 22,
   "id": "4a24b9fa",
   "metadata": {},
   "outputs": [
    {
     "ename": "SyntaxError",
     "evalue": "invalid syntax (1037529858.py, line 1)",
     "output_type": "error",
     "traceback": [
      "\u001b[1;36m  File \u001b[1;32m\"C:\\Users\\uqcche32\\AppData\\Local\\Temp\\ipykernel_22132\\1037529858.py\"\u001b[1;36m, line \u001b[1;32m1\u001b[0m\n\u001b[1;33m    print(composer.)\u001b[0m\n\u001b[1;37m                   ^\u001b[0m\n\u001b[1;31mSyntaxError\u001b[0m\u001b[1;31m:\u001b[0m invalid syntax\n"
     ]
    }
   ],
   "source": [
    "print(composer.)"
   ]
  },
  {
   "cell_type": "code",
   "execution_count": null,
   "id": "ed9e71b9",
   "metadata": {},
   "outputs": [],
   "source": [
    "os.getcwd()"
   ]
  },
  {
   "cell_type": "code",
   "execution_count": null,
   "id": "78368265",
   "metadata": {},
   "outputs": [],
   "source": [
    "tf.executing_eagerly()"
   ]
  },
  {
   "cell_type": "code",
   "execution_count": null,
   "id": "0d4e736b",
   "metadata": {},
   "outputs": [],
   "source": [
    "print(tf.__version__)"
   ]
  },
  {
   "cell_type": "code",
   "execution_count": null,
   "id": "715bfd3b",
   "metadata": {},
   "outputs": [],
   "source": [
    "input_tensor = tf.constant([1, 2, 3, 4, 5])\n",
    "input_tensor.numpy()"
   ]
  },
  {
   "cell_type": "code",
   "execution_count": null,
   "id": "b7b9066a",
   "metadata": {},
   "outputs": [],
   "source": [
    "index_ref = composer.prepare_cross_validate()\n",
    "i = 1\n",
    "for train_idx,valid_idx in index_ref:\n",
    "    print(\"Cross-validate: {}\".format(i))\n",
    "    composer.prepare_training(train_idx,valid_idx)\n",
    "    composer.compose(train_idx,valid_idx)\n",
    "    i+=1"
   ]
  }
 ],
 "metadata": {
  "kernelspec": {
   "display_name": "Python 3 (ipykernel)",
   "language": "python",
   "name": "python3"
  },
  "language_info": {
   "codemirror_mode": {
    "name": "ipython",
    "version": 3
   },
   "file_extension": ".py",
   "mimetype": "text/x-python",
   "name": "python",
   "nbconvert_exporter": "python",
   "pygments_lexer": "ipython3",
   "version": "3.7.12"
  }
 },
 "nbformat": 4,
 "nbformat_minor": 5
}
