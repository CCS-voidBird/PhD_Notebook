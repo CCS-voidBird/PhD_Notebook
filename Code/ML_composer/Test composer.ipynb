{
 "cells": [
  {
   "cell_type": "markdown",
   "id": "b0caae4f",
   "metadata": {},
   "source": [
    "TEST ML_composer \n"
   ]
  },
  {
   "cell_type": "code",
   "execution_count": 1,
   "id": "f3a3f995",
   "metadata": {},
   "outputs": [
    {
     "name": "stdout",
     "output_type": "stream",
     "text": [
      "O:\\project\\ML_composer\n"
     ]
    }
   ],
   "source": [
    "import os\n",
    "print(os.getcwd())\n",
    "#os.chdir(\"F:/project/sugarcane_disease/\")\n",
    "os.chdir(\"O:/project/sugarcane_disease/\")\n",
    "os.getcwd()\n",
    "os.environ[\"KMP_DUPLICATE_LIB_OK\"]=\"TRUE\""
   ]
  },
  {
   "cell_type": "code",
   "execution_count": 2,
   "id": "671d1f66",
   "metadata": {},
   "outputs": [
    {
     "name": "stdout",
     "output_type": "stream",
     "text": [
      "Use tensorflow backend keras module\n"
     ]
    }
   ],
   "source": [
    "from GS_composer import *"
   ]
  },
  {
   "cell_type": "code",
   "execution_count": 3,
   "id": "68c7d9c9",
   "metadata": {},
   "outputs": [],
   "source": [
    "from ClassModel import *\n"
   ]
  },
  {
   "cell_type": "code",
   "execution_count": 4,
   "id": "47742d60",
   "metadata": {},
   "outputs": [],
   "source": [
    "from Functions import *"
   ]
  },
  {
   "cell_type": "code",
   "execution_count": 7,
   "id": "5ffdb784",
   "metadata": {},
   "outputs": [],
   "source": [
    "class p_args:\n",
    "    \n",
    "    def __init__(self):\n",
    "        \n",
    "        self.ped = \"sugarcane_disease\"\n",
    "        self.pheno = \"sugarcane_disease.pheno\"\n",
    "        self.mpheno = 1\n",
    "        self.index = \"sugarcane_disease.index\"\n",
    "        self.model = \"Numeric CNN\"\n",
    "        self.load = None\n",
    "        self.trait = \"trait\"\n",
    "        self.output = \"./results\"\n",
    "        self.round = 10\n",
    "        self.plot = True\n",
    "        self.epoch = 50\n",
    "        self.rank =True\n",
    "        self.lr = 0.0001\n",
    "        \n",
    "args = p_args()"
   ]
  },
  {
   "cell_type": "code",
   "execution_count": 8,
   "id": "eee6c31a",
   "metadata": {},
   "outputs": [],
   "source": [
    "config = None\n"
   ]
  },
  {
   "cell_type": "code",
   "execution_count": 9,
   "id": "0353d51e",
   "metadata": {},
   "outputs": [],
   "source": [
    "if args.output[0] == \"/\":\n",
    "    locat = '/' + args.output.strip('/') + '/'\n",
    "else:\n",
    "    locat = args.output.strip('/') + '/'\n",
    "if not os.path.exists(locat):\n",
    "    os.mkdir(locat)"
   ]
  },
  {
   "cell_type": "code",
   "execution_count": 13,
   "id": "48126528",
   "metadata": {},
   "outputs": [],
   "source": [
    "composer = ML_composer()\n",
    "composer._model\n",
    "composer.silence_mode = 2"
   ]
  },
  {
   "cell_type": "code",
   "execution_count": 14,
   "id": "e24f9015",
   "metadata": {},
   "outputs": [
    {
     "name": "stdout",
     "output_type": "stream",
     "text": [
      "1    939\n",
      "3    940\n",
      "4    940\n",
      "2    940\n",
      "5    943\n",
      "Name: 2, dtype: int64\n",
      "Get genotype shape: (4702, 26086)\n",
      "   7   8   9   10  11  12  13  14  15\n",
      "1   0   2   0   1   2   1   0   1   2\n",
      "2   1   2   1   1   2   1   0   1   1\n",
      "3   1   2   0   0   1   0   1   1   2\n",
      "4   1   2   0   0   1   0   1   1   2\n",
      "5   0   2   1   1   2   0   2   1   1\n",
      "6   0   2   0   1   2   1   0   1   2\n",
      "7   1   2   1   1   2   1   2   1   2\n",
      "8   0   2   0   1   1   0   1   0   2\n",
      "9   1   2   1   1   2   1   2   1   2\n"
     ]
    }
   ],
   "source": [
    "composer.get_data(config,args)"
   ]
  },
  {
   "cell_type": "code",
   "execution_count": 15,
   "id": "0f3e51a2",
   "metadata": {},
   "outputs": [],
   "source": [
    "composer.prepare_model()"
   ]
  },
  {
   "cell_type": "code",
   "execution_count": 16,
   "id": "33e285a4",
   "metadata": {},
   "outputs": [],
   "source": [
    "index_ref = composer.prepare_cross_validate()"
   ]
  },
  {
   "cell_type": "code",
   "execution_count": 17,
   "id": "f427e486",
   "metadata": {},
   "outputs": [
    {
     "name": "stdout",
     "output_type": "stream",
     "text": [
      "Cross-validate: ([2, 3, 4, 5], [1])\n"
     ]
    }
   ],
   "source": [
    "print(\"Cross-validate: {}\".format(index_ref[0]))"
   ]
  },
  {
   "cell_type": "code",
   "execution_count": 18,
   "id": "c7ee35e6",
   "metadata": {},
   "outputs": [],
   "source": [
    "train_idx,valid_idx = index_ref[0]"
   ]
  },
  {
   "cell_type": "code",
   "execution_count": 19,
   "id": "1d64bf0e",
   "metadata": {},
   "outputs": [
    {
     "name": "stdout",
     "output_type": "stream",
     "text": [
      "Overall population: 4702\n",
      "759 individuals need to be removed due to the miss phenotype\n",
      "Filtered population: 3943\n",
      "USE Numeric CNN MODEL as training method\n",
      "The transformed SNP shape: (3047, 26086, 1)\n",
      "USE Numeric CNN MODEL as training method\n",
      "The transformed SNP shape: (896, 26086, 1)\n"
     ]
    }
   ],
   "source": [
    "composer.prepare_training(train_idx,valid_idx)\n",
    "composer.batchSize = 64"
   ]
  },
  {
   "cell_type": "code",
   "execution_count": 21,
   "id": "6a9ec790",
   "metadata": {},
   "outputs": [
    {
     "data": {
      "text/html": [
       "<div>\n",
       "<style scoped>\n",
       "    .dataframe tbody tr th:only-of-type {\n",
       "        vertical-align: middle;\n",
       "    }\n",
       "\n",
       "    .dataframe tbody tr th {\n",
       "        vertical-align: top;\n",
       "    }\n",
       "\n",
       "    .dataframe thead th {\n",
       "        text-align: right;\n",
       "    }\n",
       "</style>\n",
       "<table border=\"1\" class=\"dataframe\">\n",
       "  <thead>\n",
       "    <tr style=\"text-align: right;\">\n",
       "      <th></th>\n",
       "      <th>6</th>\n",
       "      <th>7</th>\n",
       "      <th>8</th>\n",
       "      <th>9</th>\n",
       "      <th>10</th>\n",
       "      <th>11</th>\n",
       "      <th>12</th>\n",
       "      <th>13</th>\n",
       "      <th>14</th>\n",
       "      <th>15</th>\n",
       "      <th>...</th>\n",
       "      <th>26082</th>\n",
       "      <th>26083</th>\n",
       "      <th>26084</th>\n",
       "      <th>26085</th>\n",
       "      <th>26086</th>\n",
       "      <th>26087</th>\n",
       "      <th>26088</th>\n",
       "      <th>26089</th>\n",
       "      <th>26090</th>\n",
       "      <th>26091</th>\n",
       "    </tr>\n",
       "  </thead>\n",
       "  <tbody>\n",
       "    <tr>\n",
       "      <th>count</th>\n",
       "      <td>4702.000000</td>\n",
       "      <td>4702.000000</td>\n",
       "      <td>4702.000000</td>\n",
       "      <td>4702.000000</td>\n",
       "      <td>4702.000000</td>\n",
       "      <td>4702.000000</td>\n",
       "      <td>4702.000000</td>\n",
       "      <td>4702.000000</td>\n",
       "      <td>4702.000000</td>\n",
       "      <td>4702.000000</td>\n",
       "      <td>...</td>\n",
       "      <td>4702.000000</td>\n",
       "      <td>4702.000000</td>\n",
       "      <td>4702.000000</td>\n",
       "      <td>4702.000000</td>\n",
       "      <td>4702.000000</td>\n",
       "      <td>4702.000000</td>\n",
       "      <td>4702.000000</td>\n",
       "      <td>4702.000000</td>\n",
       "      <td>4702.000000</td>\n",
       "      <td>4702.000000</td>\n",
       "    </tr>\n",
       "    <tr>\n",
       "      <th>mean</th>\n",
       "      <td>1.675457</td>\n",
       "      <td>0.295194</td>\n",
       "      <td>1.581455</td>\n",
       "      <td>0.578052</td>\n",
       "      <td>0.509783</td>\n",
       "      <td>1.692471</td>\n",
       "      <td>0.576563</td>\n",
       "      <td>0.770949</td>\n",
       "      <td>0.608252</td>\n",
       "      <td>1.778179</td>\n",
       "      <td>...</td>\n",
       "      <td>0.486176</td>\n",
       "      <td>1.293492</td>\n",
       "      <td>1.614207</td>\n",
       "      <td>0.756061</td>\n",
       "      <td>0.379200</td>\n",
       "      <td>1.352616</td>\n",
       "      <td>1.448745</td>\n",
       "      <td>1.698426</td>\n",
       "      <td>0.374309</td>\n",
       "      <td>1.732880</td>\n",
       "    </tr>\n",
       "    <tr>\n",
       "      <th>std</th>\n",
       "      <td>0.473224</td>\n",
       "      <td>0.471766</td>\n",
       "      <td>0.580163</td>\n",
       "      <td>0.624409</td>\n",
       "      <td>0.613791</td>\n",
       "      <td>0.500439</td>\n",
       "      <td>0.630694</td>\n",
       "      <td>0.686006</td>\n",
       "      <td>0.660426</td>\n",
       "      <td>0.428123</td>\n",
       "      <td>...</td>\n",
       "      <td>0.521930</td>\n",
       "      <td>0.633561</td>\n",
       "      <td>0.497638</td>\n",
       "      <td>0.666646</td>\n",
       "      <td>0.542373</td>\n",
       "      <td>0.590891</td>\n",
       "      <td>0.611725</td>\n",
       "      <td>0.479392</td>\n",
       "      <td>0.532144</td>\n",
       "      <td>0.474066</td>\n",
       "    </tr>\n",
       "    <tr>\n",
       "      <th>min</th>\n",
       "      <td>0.000000</td>\n",
       "      <td>0.000000</td>\n",
       "      <td>0.000000</td>\n",
       "      <td>0.000000</td>\n",
       "      <td>0.000000</td>\n",
       "      <td>0.000000</td>\n",
       "      <td>0.000000</td>\n",
       "      <td>0.000000</td>\n",
       "      <td>0.000000</td>\n",
       "      <td>0.000000</td>\n",
       "      <td>...</td>\n",
       "      <td>0.000000</td>\n",
       "      <td>0.000000</td>\n",
       "      <td>0.000000</td>\n",
       "      <td>0.000000</td>\n",
       "      <td>0.000000</td>\n",
       "      <td>0.000000</td>\n",
       "      <td>0.000000</td>\n",
       "      <td>0.000000</td>\n",
       "      <td>0.000000</td>\n",
       "      <td>0.000000</td>\n",
       "    </tr>\n",
       "    <tr>\n",
       "      <th>25%</th>\n",
       "      <td>1.000000</td>\n",
       "      <td>0.000000</td>\n",
       "      <td>1.000000</td>\n",
       "      <td>0.000000</td>\n",
       "      <td>0.000000</td>\n",
       "      <td>1.000000</td>\n",
       "      <td>0.000000</td>\n",
       "      <td>0.000000</td>\n",
       "      <td>0.000000</td>\n",
       "      <td>2.000000</td>\n",
       "      <td>...</td>\n",
       "      <td>0.000000</td>\n",
       "      <td>1.000000</td>\n",
       "      <td>1.000000</td>\n",
       "      <td>0.000000</td>\n",
       "      <td>0.000000</td>\n",
       "      <td>1.000000</td>\n",
       "      <td>1.000000</td>\n",
       "      <td>1.000000</td>\n",
       "      <td>0.000000</td>\n",
       "      <td>1.000000</td>\n",
       "    </tr>\n",
       "    <tr>\n",
       "      <th>50%</th>\n",
       "      <td>2.000000</td>\n",
       "      <td>0.000000</td>\n",
       "      <td>2.000000</td>\n",
       "      <td>1.000000</td>\n",
       "      <td>0.000000</td>\n",
       "      <td>2.000000</td>\n",
       "      <td>0.000000</td>\n",
       "      <td>1.000000</td>\n",
       "      <td>1.000000</td>\n",
       "      <td>2.000000</td>\n",
       "      <td>...</td>\n",
       "      <td>0.000000</td>\n",
       "      <td>1.000000</td>\n",
       "      <td>2.000000</td>\n",
       "      <td>1.000000</td>\n",
       "      <td>0.000000</td>\n",
       "      <td>1.000000</td>\n",
       "      <td>2.000000</td>\n",
       "      <td>2.000000</td>\n",
       "      <td>0.000000</td>\n",
       "      <td>2.000000</td>\n",
       "    </tr>\n",
       "    <tr>\n",
       "      <th>75%</th>\n",
       "      <td>2.000000</td>\n",
       "      <td>1.000000</td>\n",
       "      <td>2.000000</td>\n",
       "      <td>1.000000</td>\n",
       "      <td>1.000000</td>\n",
       "      <td>2.000000</td>\n",
       "      <td>1.000000</td>\n",
       "      <td>1.000000</td>\n",
       "      <td>1.000000</td>\n",
       "      <td>2.000000</td>\n",
       "      <td>...</td>\n",
       "      <td>1.000000</td>\n",
       "      <td>2.000000</td>\n",
       "      <td>2.000000</td>\n",
       "      <td>1.000000</td>\n",
       "      <td>1.000000</td>\n",
       "      <td>2.000000</td>\n",
       "      <td>2.000000</td>\n",
       "      <td>2.000000</td>\n",
       "      <td>1.000000</td>\n",
       "      <td>2.000000</td>\n",
       "    </tr>\n",
       "    <tr>\n",
       "      <th>max</th>\n",
       "      <td>2.000000</td>\n",
       "      <td>2.000000</td>\n",
       "      <td>2.000000</td>\n",
       "      <td>2.000000</td>\n",
       "      <td>2.000000</td>\n",
       "      <td>2.000000</td>\n",
       "      <td>2.000000</td>\n",
       "      <td>2.000000</td>\n",
       "      <td>2.000000</td>\n",
       "      <td>2.000000</td>\n",
       "      <td>...</td>\n",
       "      <td>2.000000</td>\n",
       "      <td>2.000000</td>\n",
       "      <td>2.000000</td>\n",
       "      <td>2.000000</td>\n",
       "      <td>2.000000</td>\n",
       "      <td>2.000000</td>\n",
       "      <td>2.000000</td>\n",
       "      <td>2.000000</td>\n",
       "      <td>2.000000</td>\n",
       "      <td>2.000000</td>\n",
       "    </tr>\n",
       "  </tbody>\n",
       "</table>\n",
       "<p>8 rows × 26086 columns</p>\n",
       "</div>"
      ],
      "text/plain": [
       "             6            7            8            9            10     \\\n",
       "count  4702.000000  4702.000000  4702.000000  4702.000000  4702.000000   \n",
       "mean      1.675457     0.295194     1.581455     0.578052     0.509783   \n",
       "std       0.473224     0.471766     0.580163     0.624409     0.613791   \n",
       "min       0.000000     0.000000     0.000000     0.000000     0.000000   \n",
       "25%       1.000000     0.000000     1.000000     0.000000     0.000000   \n",
       "50%       2.000000     0.000000     2.000000     1.000000     0.000000   \n",
       "75%       2.000000     1.000000     2.000000     1.000000     1.000000   \n",
       "max       2.000000     2.000000     2.000000     2.000000     2.000000   \n",
       "\n",
       "             11           12           13           14           15     ...  \\\n",
       "count  4702.000000  4702.000000  4702.000000  4702.000000  4702.000000  ...   \n",
       "mean      1.692471     0.576563     0.770949     0.608252     1.778179  ...   \n",
       "std       0.500439     0.630694     0.686006     0.660426     0.428123  ...   \n",
       "min       0.000000     0.000000     0.000000     0.000000     0.000000  ...   \n",
       "25%       1.000000     0.000000     0.000000     0.000000     2.000000  ...   \n",
       "50%       2.000000     0.000000     1.000000     1.000000     2.000000  ...   \n",
       "75%       2.000000     1.000000     1.000000     1.000000     2.000000  ...   \n",
       "max       2.000000     2.000000     2.000000     2.000000     2.000000  ...   \n",
       "\n",
       "             26082        26083        26084        26085        26086  \\\n",
       "count  4702.000000  4702.000000  4702.000000  4702.000000  4702.000000   \n",
       "mean      0.486176     1.293492     1.614207     0.756061     0.379200   \n",
       "std       0.521930     0.633561     0.497638     0.666646     0.542373   \n",
       "min       0.000000     0.000000     0.000000     0.000000     0.000000   \n",
       "25%       0.000000     1.000000     1.000000     0.000000     0.000000   \n",
       "50%       0.000000     1.000000     2.000000     1.000000     0.000000   \n",
       "75%       1.000000     2.000000     2.000000     1.000000     1.000000   \n",
       "max       2.000000     2.000000     2.000000     2.000000     2.000000   \n",
       "\n",
       "             26087        26088        26089        26090        26091  \n",
       "count  4702.000000  4702.000000  4702.000000  4702.000000  4702.000000  \n",
       "mean      1.352616     1.448745     1.698426     0.374309     1.732880  \n",
       "std       0.590891     0.611725     0.479392     0.532144     0.474066  \n",
       "min       0.000000     0.000000     0.000000     0.000000     0.000000  \n",
       "25%       1.000000     1.000000     1.000000     0.000000     1.000000  \n",
       "50%       1.000000     2.000000     2.000000     0.000000     2.000000  \n",
       "75%       2.000000     2.000000     2.000000     1.000000     2.000000  \n",
       "max       2.000000     2.000000     2.000000     2.000000     2.000000  \n",
       "\n",
       "[8 rows x 26086 columns]"
      ]
     },
     "execution_count": 21,
     "metadata": {},
     "output_type": "execute_result"
    }
   ],
   "source": [
    "composer._raw_data[\"GENO\"].iloc[:,6:].describe()"
   ]
  },
  {
   "cell_type": "code",
   "execution_count": 15,
   "id": "54a38a5e",
   "metadata": {},
   "outputs": [
    {
     "name": "stdout",
     "output_type": "stream",
     "text": [
      "Train status:\n",
      "Epochs:  50\n",
      "Repeat(Round):  10\n"
     ]
    },
    {
     "ename": "ValueError",
     "evalue": "The first argument to `Layer.call` must always be passed.",
     "output_type": "error",
     "traceback": [
      "\u001b[1;31m---------------------------------------------------------------------------\u001b[0m",
      "\u001b[1;31mValueError\u001b[0m                                Traceback (most recent call last)",
      "Input \u001b[1;32mIn [15]\u001b[0m, in \u001b[0;36m<cell line: 1>\u001b[1;34m()\u001b[0m\n\u001b[1;32m----> 1\u001b[0m \u001b[43mcomposer\u001b[49m\u001b[38;5;241;43m.\u001b[39;49m\u001b[43mcompose\u001b[49m\u001b[43m(\u001b[49m\u001b[43mtrain_idx\u001b[49m\u001b[43m,\u001b[49m\u001b[43mvalid_idx\u001b[49m\u001b[43m)\u001b[49m\n",
      "File \u001b[1;32mO:\\project\\ML_composer\\GS_composer.py:219\u001b[0m, in \u001b[0;36mML_composer.compose\u001b[1;34m(self, train_index, valid_index)\u001b[0m\n\u001b[0;32m    217\u001b[0m \u001b[38;5;28mround\u001b[39m \u001b[38;5;241m=\u001b[39m \u001b[38;5;241m1\u001b[39m\n\u001b[0;32m    218\u001b[0m \u001b[38;5;28;01mwhile\u001b[39;00m \u001b[38;5;28mround\u001b[39m \u001b[38;5;241m<\u001b[39m\u001b[38;5;241m=\u001b[39m \u001b[38;5;28mself\u001b[39m\u001b[38;5;241m.\u001b[39margs\u001b[38;5;241m.\u001b[39mround:\n\u001b[1;32m--> 219\u001b[0m     history, test_accuracy, runtime \u001b[38;5;241m=\u001b[39m \u001b[38;5;28;43mself\u001b[39;49m\u001b[38;5;241;43m.\u001b[39;49m\u001b[43mtrain\u001b[49m\u001b[43m(\u001b[49m\u001b[43mfeatures_train\u001b[49m\u001b[43m,\u001b[49m\u001b[43m \u001b[49m\u001b[43mfeatures_test\u001b[49m\u001b[43m,\u001b[49m\u001b[43m \u001b[49m\u001b[43mtarget_train\u001b[49m\u001b[43m,\u001b[49m\u001b[43m \u001b[49m\u001b[43mtarget_test\u001b[49m\u001b[43m)\u001b[49m\n\u001b[0;32m    220\u001b[0m     valid_accuracy, mse \u001b[38;5;241m=\u001b[39m \u001b[38;5;28mself\u001b[39m\u001b[38;5;241m.\u001b[39mmodel_validation()\n\u001b[0;32m    221\u001b[0m     \u001b[38;5;28mself\u001b[39m\u001b[38;5;241m.\u001b[39mrecord\u001b[38;5;241m.\u001b[39mloc[\u001b[38;5;28mlen\u001b[39m(\u001b[38;5;28mself\u001b[39m\u001b[38;5;241m.\u001b[39mrecord)] \u001b[38;5;241m=\u001b[39m [\u001b[38;5;28mself\u001b[39m\u001b[38;5;241m.\u001b[39margs\u001b[38;5;241m.\u001b[39mtrait, train_index, valid_index, \u001b[38;5;28mself\u001b[39m\u001b[38;5;241m.\u001b[39margs\u001b[38;5;241m.\u001b[39mmodel,\n\u001b[0;32m    222\u001b[0m                        test_accuracy, valid_accuracy, mse, runtime\u001b[38;5;241m.\u001b[39mseconds \u001b[38;5;241m/\u001b[39m \u001b[38;5;241m60\u001b[39m]\n",
      "File \u001b[1;32mO:\\project\\ML_composer\\GS_composer.py:171\u001b[0m, in \u001b[0;36mML_composer.train\u001b[1;34m(self, features_train, features_test, target_train, target_test)\u001b[0m\n\u001b[0;32m    168\u001b[0m \u001b[38;5;28;01mdef\u001b[39;00m \u001b[38;5;21mtrain\u001b[39m(\u001b[38;5;28mself\u001b[39m,features_train, features_test, target_train, target_test):\n\u001b[0;32m    170\u001b[0m     n_features \u001b[38;5;241m=\u001b[39m \u001b[38;5;28mself\u001b[39m\u001b[38;5;241m.\u001b[39mtrain_data\u001b[38;5;241m.\u001b[39mshape[\u001b[38;5;241m1\u001b[39m:]\n\u001b[1;32m--> 171\u001b[0m     \u001b[38;5;28mself\u001b[39m\u001b[38;5;241m.\u001b[39m_model[\u001b[38;5;124m\"\u001b[39m\u001b[38;5;124mTRAINED_MODEL\u001b[39m\u001b[38;5;124m\"\u001b[39m] \u001b[38;5;241m=\u001b[39m \u001b[38;5;28;43mself\u001b[39;49m\u001b[38;5;241;43m.\u001b[39;49m\u001b[43m_model\u001b[49m\u001b[43m[\u001b[49m\u001b[38;5;124;43m\"\u001b[39;49m\u001b[38;5;124;43mINIT_MODEL\u001b[39;49m\u001b[38;5;124;43m\"\u001b[39;49m\u001b[43m]\u001b[49m\u001b[38;5;241;43m.\u001b[39;49m\u001b[43mmodelling\u001b[49m\u001b[43m(\u001b[49m\n\u001b[0;32m    172\u001b[0m \u001b[43m        \u001b[49m\u001b[43minput_shape\u001b[49m\u001b[43m \u001b[49m\u001b[38;5;241;43m=\u001b[39;49m\u001b[43m \u001b[49m\u001b[43mn_features\u001b[49m\u001b[43m,\u001b[49m\u001b[43mlr\u001b[49m\u001b[38;5;241;43m=\u001b[39;49m\u001b[38;5;28;43mfloat\u001b[39;49m\u001b[43m(\u001b[49m\u001b[38;5;28;43mself\u001b[39;49m\u001b[38;5;241;43m.\u001b[39;49m\u001b[43margs\u001b[49m\u001b[38;5;241;43m.\u001b[39;49m\u001b[43mlr\u001b[49m\u001b[43m)\u001b[49m\u001b[43m)\u001b[49m\n\u001b[0;32m    174\u001b[0m     callback \u001b[38;5;241m=\u001b[39m tf\u001b[38;5;241m.\u001b[39mkeras\u001b[38;5;241m.\u001b[39mcallbacks\u001b[38;5;241m.\u001b[39mEarlyStopping(monitor\u001b[38;5;241m=\u001b[39m\u001b[38;5;124m'\u001b[39m\u001b[38;5;124mloss\u001b[39m\u001b[38;5;124m'\u001b[39m, patience\u001b[38;5;241m=\u001b[39mPATIENCE)\n\u001b[0;32m    176\u001b[0m     \u001b[38;5;28;01mtry\u001b[39;00m:\n",
      "File \u001b[1;32mO:\\project\\ML_composer\\ClassModel.py:161\u001b[0m, in \u001b[0;36mTCNN.model\u001b[1;34m(self, input_shape, n_layers, n_units, optimizer, lr)\u001b[0m\n\u001b[0;32m    159\u001b[0m model\u001b[38;5;241m.\u001b[39madd(Flatten())\n\u001b[0;32m    160\u001b[0m embedding_layer \u001b[38;5;241m=\u001b[39m TokenAndPositionEmbedding(maxlen, vocab_size, embed_dim)\n\u001b[1;32m--> 161\u001b[0m model\u001b[38;5;241m.\u001b[39madd(\u001b[43membedding_layer\u001b[49m\u001b[43m(\u001b[49m\u001b[43m)\u001b[49m)\n\u001b[0;32m    162\u001b[0m transformer_block \u001b[38;5;241m=\u001b[39m TransformerBlock(embed_dim, num_heads, ff_dim)\n\u001b[0;32m    163\u001b[0m model\u001b[38;5;241m.\u001b[39madd(transformer_block())\n",
      "File \u001b[1;32mO:\\miniconda\\envs\\AIGS_py39\\lib\\site-packages\\tensorflow\\python\\keras\\engine\\base_layer.py:960\u001b[0m, in \u001b[0;36mLayer.__call__\u001b[1;34m(self, *args, **kwargs)\u001b[0m\n\u001b[0;32m    945\u001b[0m   \u001b[38;5;28;01mraise\u001b[39;00m \u001b[38;5;167;01mRuntimeError\u001b[39;00m(\n\u001b[0;32m    946\u001b[0m       \u001b[38;5;124m'\u001b[39m\u001b[38;5;124mYou must call `super().__init__()` in the layer constructor.\u001b[39m\u001b[38;5;124m'\u001b[39m)\n\u001b[0;32m    948\u001b[0m \u001b[38;5;66;03m# `inputs` (the first arg in the method spec) is special cased in\u001b[39;00m\n\u001b[0;32m    949\u001b[0m \u001b[38;5;66;03m# layer call due to historical reasons.\u001b[39;00m\n\u001b[0;32m    950\u001b[0m \u001b[38;5;66;03m# This special casing currently takes the form of:\u001b[39;00m\n\u001b[1;32m   (...)\u001b[0m\n\u001b[0;32m    958\u001b[0m \u001b[38;5;66;03m#   not to any other argument.\u001b[39;00m\n\u001b[0;32m    959\u001b[0m \u001b[38;5;66;03m# - setting the SavedModel saving spec.\u001b[39;00m\n\u001b[1;32m--> 960\u001b[0m inputs, args, kwargs \u001b[38;5;241m=\u001b[39m \u001b[38;5;28;43mself\u001b[39;49m\u001b[38;5;241;43m.\u001b[39;49m\u001b[43m_split_out_first_arg\u001b[49m\u001b[43m(\u001b[49m\u001b[43margs\u001b[49m\u001b[43m,\u001b[49m\u001b[43m \u001b[49m\u001b[43mkwargs\u001b[49m\u001b[43m)\u001b[49m\n\u001b[0;32m    961\u001b[0m input_list \u001b[38;5;241m=\u001b[39m nest\u001b[38;5;241m.\u001b[39mflatten(inputs)\n\u001b[0;32m    963\u001b[0m \u001b[38;5;66;03m# Functional Model construction mode is invoked when `Layer`s are called on\u001b[39;00m\n\u001b[0;32m    964\u001b[0m \u001b[38;5;66;03m# symbolic `KerasTensor`s, i.e.:\u001b[39;00m\n\u001b[0;32m    965\u001b[0m \u001b[38;5;66;03m# >> inputs = tf.keras.Input(10)\u001b[39;00m\n\u001b[0;32m    966\u001b[0m \u001b[38;5;66;03m# >> outputs = MyLayer()(inputs)  # Functional construction mode.\u001b[39;00m\n\u001b[0;32m    967\u001b[0m \u001b[38;5;66;03m# >> model = tf.keras.Model(inputs, outputs)\u001b[39;00m\n",
      "File \u001b[1;32mO:\\miniconda\\envs\\AIGS_py39\\lib\\site-packages\\tensorflow\\python\\keras\\engine\\base_layer.py:2977\u001b[0m, in \u001b[0;36mLayer._split_out_first_arg\u001b[1;34m(self, args, kwargs)\u001b[0m\n\u001b[0;32m   2975\u001b[0m   inputs \u001b[38;5;241m=\u001b[39m kwargs\u001b[38;5;241m.\u001b[39mpop(\u001b[38;5;28mself\u001b[39m\u001b[38;5;241m.\u001b[39m_call_fn_args[\u001b[38;5;241m0\u001b[39m])\n\u001b[0;32m   2976\u001b[0m \u001b[38;5;28;01melse\u001b[39;00m:\n\u001b[1;32m-> 2977\u001b[0m   \u001b[38;5;28;01mraise\u001b[39;00m \u001b[38;5;167;01mValueError\u001b[39;00m(\n\u001b[0;32m   2978\u001b[0m       \u001b[38;5;124m'\u001b[39m\u001b[38;5;124mThe first argument to `Layer.call` must always be passed.\u001b[39m\u001b[38;5;124m'\u001b[39m)\n\u001b[0;32m   2979\u001b[0m \u001b[38;5;28;01mreturn\u001b[39;00m inputs, args, kwargs\n",
      "\u001b[1;31mValueError\u001b[0m: The first argument to `Layer.call` must always be passed."
     ]
    }
   ],
   "source": [
    "composer.compose(train_idx,valid_idx)"
   ]
  },
  {
   "cell_type": "code",
   "execution_count": null,
   "id": "46441d08",
   "metadata": {},
   "outputs": [],
   "source": [
    "#import tensorflow as tf \n",
    "\n",
    "if tf.test.gpu_device_name(): \n",
    "    print('Default GPU Device:{}'.format(tf.test.gpu_device_name()))\n",
    "else:\n",
    "    print(\"Please install GPU version of TF\")"
   ]
  },
  {
   "cell_type": "code",
   "execution_count": null,
   "id": "d74a52cb",
   "metadata": {},
   "outputs": [],
   "source": [
    "1.5//1"
   ]
  },
  {
   "cell_type": "code",
   "execution_count": null,
   "id": "a9106dcd",
   "metadata": {},
   "outputs": [],
   "source": []
  },
  {
   "cell_type": "code",
   "execution_count": null,
   "id": "0e2bf9dd",
   "metadata": {},
   "outputs": [],
   "source": []
  },
  {
   "cell_type": "code",
   "execution_count": null,
   "id": "d970bc4a",
   "metadata": {},
   "outputs": [],
   "source": [
    "index_ref = composer.prepare_cross_validate()\n",
    "i = 1\n",
    "for train_idx,valid_idx in index_ref:\n",
    "    print(\"Cross-validate: {}\".format(i))\n",
    "    composer.prepare_training(train_idx,valid_idx)\n",
    "    composer.compose(train_idx,valid_idx)\n",
    "    i+=1"
   ]
  }
 ],
 "metadata": {
  "kernelspec": {
   "display_name": "Python 3 (ipykernel)",
   "language": "python",
   "name": "python3"
  },
  "language_info": {
   "codemirror_mode": {
    "name": "ipython",
    "version": 3
   },
   "file_extension": ".py",
   "mimetype": "text/x-python",
   "name": "python",
   "nbconvert_exporter": "python",
   "pygments_lexer": "ipython3",
   "version": "3.9.13"
  }
 },
 "nbformat": 4,
 "nbformat_minor": 5
}
