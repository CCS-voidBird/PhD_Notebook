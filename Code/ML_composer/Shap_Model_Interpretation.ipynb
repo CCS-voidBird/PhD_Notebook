{
 "cells": [
  {
   "cell_type": "code",
   "execution_count": 7,
   "id": "142f75eb",
   "metadata": {},
   "outputs": [],
   "source": [
    "from tensorflow import keras\n",
    "import tensorflow as tf\n",
    "import gc"
   ]
  },
  {
   "cell_type": "code",
   "execution_count": 8,
   "id": "f3aadd4e",
   "metadata": {
    "scrolled": true
   },
   "outputs": [],
   "source": [
    "from CustomLayers import *\n",
    "from GS_composer import *\n",
    "from Functions import *\n",
    "from ClassModel import *"
   ]
  },
  {
   "cell_type": "code",
   "execution_count": 9,
   "id": "ee65e57c",
   "metadata": {},
   "outputs": [],
   "source": [
    "#user_profile = \"E:/learning resource/\"\n",
    "#user_profile = \"C:/Users/uqcche32/\"\n",
    "user_profile = \"D:/\"\n",
    "\n",
    "Model_series = \"MultiLevel/MultiLevel_Attention_1Head_pcaIndex\"\n",
    "Model_path = user_profile+\"OneDrive - The University of Queensland/PhD/HPC_Results/Sugarcane_disease/ML/\" + Model_series\n",
    "Model_path = \"F:/PhD_Notebook/Code/ML_composer/\"\n",
    "Model_path = \"H:/ML_archive/test_model\"\n",
    "#Model_path = \"E:/learning resource/OneDrive - The University of Queensland/PhD/HPC_Results/Sugarcane_disease/ML/\""
   ]
  },
  {
   "cell_type": "code",
   "execution_count": 10,
   "id": "fa653b39",
   "metadata": {},
   "outputs": [],
   "source": [
    "from keras import backend as K"
   ]
  },
  {
   "cell_type": "code",
   "execution_count": 11,
   "id": "c6dcf063",
   "metadata": {},
   "outputs": [
    {
     "name": "stdout",
     "output_type": "stream",
     "text": [
      "2.9.1\n"
     ]
    }
   ],
   "source": [
    "print(tf.__version__)"
   ]
  },
  {
   "cell_type": "code",
   "execution_count": 16,
   "id": "bc509ea5",
   "metadata": {},
   "outputs": [
    {
     "name": "stdout",
     "output_type": "stream",
     "text": [
      "H:/ML_archive/test_model/smut_MultiLevelAttention_1\n",
      "(None, 2608, 8)\n",
      "from buiild\n"
     ]
    }
   ],
   "source": [
    "model_folder = \"smut_MultiLevelAttention_1\"\n",
    "\n",
    "#model_folder = \"test_model\"\n",
    "full_path = Model_path + \"/\" + model_folder\n",
    "print(full_path)\n",
    "model = keras.models.load_model(full_path,custom_objects={\"MultiLevel_BlockAttention\": MultiLevel_BlockAttention,\n",
    "                                                         \"OrdinalOutputLayer\":OrdinalOutputLayer,\n",
    "                                                         \"GroupedLocallyConnectedLayer\":GroupedLocallyConnectedLayer})"
   ]
  },
  {
   "cell_type": "code",
   "execution_count": 17,
   "id": "8073c3c2",
   "metadata": {},
   "outputs": [
    {
     "name": "stdout",
     "output_type": "stream",
     "text": [
      "Model: \"model\"\n",
      "__________________________________________________________________________________________________\n",
      " Layer (type)                   Output Shape         Param #     Connected to                     \n",
      "==================================================================================================\n",
      " input_layer_1 (InputLayer)     [(None, 26086, 1)]   0           []                               \n",
      "                                                                                                  \n",
      " zero_padding1d (ZeroPadding1D)  (None, 26087, 1)    0           ['input_layer_1[0][0]']          \n",
      "                                                                                                  \n",
      " locally_connected1d (LocallyCo  (None, 2608, 8)     208640      ['zero_padding1d[0][0]']         \n",
      " nnected1D)                                                                                       \n",
      "                                                                                                  \n",
      " dense (Dense)                  (None, 2608, 8)      72          ['locally_connected1d[0][0]']    \n",
      "                                                                                                  \n",
      " multi_level__block_attention (  (None, 2608, 8)     6812288     ['dense[0][0]']                  \n",
      " MultiLevel_BlockAttention)                                                                       \n",
      "                                                                                                  \n",
      " dense_1 (Dense)                (None, 2608, 8)      72          ['multi_level__block_attention[0]\n",
      "                                                                 [0]']                            \n",
      "                                                                                                  \n",
      " conv1d (Conv1D)                (None, 2608, 1)      8           ['dense_1[0][0]']                \n",
      "                                                                                                  \n",
      " activation (Activation)        (None, 2608, 1)      0           ['conv1d[0][0]']                 \n",
      "                                                                                                  \n",
      " global_average_pooling1d (Glob  (None, 1)           0           ['conv1d[0][0]']                 \n",
      " alAveragePooling1D)                                                                              \n",
      "                                                                                                  \n",
      " flatten (Flatten)              (None, 2608)         0           ['activation[0][0]']             \n",
      "                                                                                                  \n",
      " flatten_1 (Flatten)            (None, 1)            0           ['global_average_pooling1d[0][0]'\n",
      "                                                                 ]                                \n",
      "                                                                                                  \n",
      " dense_2 (Dense)                (None, 1)            2609        ['flatten[0][0]']                \n",
      "                                                                                                  \n",
      " add (Add)                      (None, 1)            0           ['flatten_1[0][0]',              \n",
      "                                                                  'dense_2[0][0]']                \n",
      "                                                                                                  \n",
      "==================================================================================================\n",
      "Total params: 7,023,689\n",
      "Trainable params: 7,023,689\n",
      "Non-trainable params: 0\n",
      "__________________________________________________________________________________________________\n"
     ]
    }
   ],
   "source": [
    "model.summary()\n",
    "#model = keras.Model(inputs=input1, outputs=QV_output)\n",
    "model.compile(optimizer=\"RMSprop\", loss=\"mean_squared_error\")"
   ]
  },
  {
   "cell_type": "markdown",
   "id": "3ae907fa",
   "metadata": {},
   "source": [
    "A test variable of SNP array based on the freq of alleles."
   ]
  },
  {
   "cell_type": "code",
   "execution_count": 18,
   "id": "a8f3b95a",
   "metadata": {},
   "outputs": [
    {
     "name": "stdout",
     "output_type": "stream",
     "text": [
      "(1, 26086, 1)\n"
     ]
    }
   ],
   "source": [
    "\n",
    "#data = np.ones((1, 26086, 1))\n",
    "test_filename = user_profile+\"OneDrive - The University of Queensland/PhD/data/sugarcane_disease/sugarcane_disease.freqV1.ped\"\n",
    "data = pd.read_csv(test_filename,header=None,sep=\"\\t\").iloc[:,6:]\n",
    "data=np.expand_dims(data,axis=-1)\n",
    "print(data.shape)"
   ]
  },
  {
   "cell_type": "markdown",
   "id": "fbb01d8f",
   "metadata": {},
   "source": [
    "Model predict via test freq data"
   ]
  },
  {
   "cell_type": "code",
   "execution_count": 19,
   "id": "5ce96da6",
   "metadata": {},
   "outputs": [
    {
     "name": "stdout",
     "output_type": "stream",
     "text": [
      "1/1 [==============================] - 2s 2s/step\n"
     ]
    },
    {
     "data": {
      "text/plain": [
       "array([[5.1038203]], dtype=float32)"
      ]
     },
     "execution_count": 19,
     "metadata": {},
     "output_type": "execute_result"
    }
   ],
   "source": [
    "model.predict(data)"
   ]
  },
  {
   "cell_type": "markdown",
   "id": "c8649526",
   "metadata": {},
   "source": [
    "Extract layer weights and outputs from the model"
   ]
  },
  {
   "cell_type": "code",
   "execution_count": null,
   "id": "da1d3688",
   "metadata": {},
   "outputs": [],
   "source": [
    "intermediate_layer_model = tf.keras.Model(inputs=model.input,\n",
    "                                         outputs=model.get_layer('dense_2').output)"
   ]
  },
  {
   "cell_type": "code",
   "execution_count": null,
   "id": "ebdb3c1f",
   "metadata": {},
   "outputs": [],
   "source": [
    "intermediate_output = intermediate_layer_model.predict(data)"
   ]
  },
  {
   "cell_type": "code",
   "execution_count": null,
   "id": "5a1f8792",
   "metadata": {},
   "outputs": [],
   "source": [
    "attention = intermediate_output[0]\n",
    "attention = K.expand_dims(attention,axis=1)\n",
    "print(attention.shape)"
   ]
  },
  {
   "cell_type": "code",
   "execution_count": null,
   "id": "8a36632c",
   "metadata": {},
   "outputs": [],
   "source": [
    "LNN_weight = model.layers[2].get_weights()"
   ]
  },
  {
   "cell_type": "code",
   "execution_count": null,
   "id": "da661fea",
   "metadata": {},
   "outputs": [],
   "source": [
    "LNN_weight[0].shape"
   ]
  },
  {
   "cell_type": "code",
   "execution_count": null,
   "id": "72ea7141",
   "metadata": {},
   "outputs": [],
   "source": [
    "LNN_weight[0].shape"
   ]
  },
  {
   "cell_type": "code",
   "execution_count": null,
   "id": "d2547401",
   "metadata": {},
   "outputs": [],
   "source": [
    "SNP_attention = tf.multiply(attention,LNN_weight[0])"
   ]
  },
  {
   "cell_type": "code",
   "execution_count": null,
   "id": "c601049d",
   "metadata": {},
   "outputs": [],
   "source": [
    "SNP_attention = tf.reshape(SNP_attention,(26080,1,32))"
   ]
  },
  {
   "cell_type": "code",
   "execution_count": null,
   "id": "22370707",
   "metadata": {},
   "outputs": [],
   "source": [
    "mean_SNP_attention = SNP_attention\n",
    "#mean_SNP_attention = tf.reduce_mean(SNP_attention,axis=2)\n",
    "mean_SNP_attention.shape\n",
    "#mean_SNP_attention =np.array(tf.reshape(mean_SNP_attention,(26080,))) #np.array(tf.reshape(mean_SNP_attention,(26080*32,)))\n",
    "mean_SNP_attention =np.array(tf.reshape(mean_SNP_attention,(26080,32)))"
   ]
  },
  {
   "cell_type": "code",
   "execution_count": null,
   "id": "b1dba58a",
   "metadata": {},
   "outputs": [],
   "source": [
    "import matplotlib.pyplot as plt\n",
    "import math"
   ]
  },
  {
   "cell_type": "code",
   "execution_count": null,
   "id": "57a9c8ef",
   "metadata": {},
   "outputs": [],
   "source": [
    "np.mean(mean_SNP_attention)"
   ]
  },
  {
   "cell_type": "code",
   "execution_count": null,
   "id": "4e4bbc21",
   "metadata": {},
   "outputs": [],
   "source": [
    "print(mean_SNP_attention.shape)\n",
    "#plt.scatter(x=np.tile(np.arange(0,26080),1),y=abs(mean_SNP_attention))\n",
    "plt.scatter(x=np.tile(np.arange(0,26080),32),y=mean_SNP_attention)"
   ]
  },
  {
   "cell_type": "code",
   "execution_count": null,
   "id": "daaab8f8",
   "metadata": {},
   "outputs": [],
   "source": [
    "mean_SNP_attention.shape"
   ]
  },
  {
   "cell_type": "code",
   "execution_count": null,
   "id": "6ea635e2",
   "metadata": {},
   "outputs": [],
   "source": [
    "def export_attention_score_by_trait(filename,trait,val):\n",
    "    model = keras.models.load_model(filename,custom_objects={\"MultiHead_QKV_BlockAttention\": MultiHead_QKV_BlockAttention,\n",
    "                                                         \"SNPBlockLayer\":SNPBlockLayer})\n",
    "    model.summary()\n",
    "    #model = keras.Model(inputs=input1, outputs=QV_output)\n",
    "    model.compile(optimizer=\"RMSprop\", loss=\"mean_squared_error\")\n",
    "    test_filename = user_profile+\"OneDrive - The University of Queensland/PhD/data/sugarcane_disease/sugarcane_disease.freqV1.ped\"\n",
    "    data = pd.read_csv(test_filename,header=None,sep=\"\\t\").iloc[:,6:]\n",
    "    data=np.expand_dims(data,axis=-1)\n",
    "    print(data.shape)\n",
    "    intermediate_layer_model = tf.keras.Model(inputs=model.input,\n",
    "                                         outputs=model.get_layer('add_3').output)\n",
    "    intermediate_output = intermediate_layer_model.predict(data)\n",
    "    attention = intermediate_output[0]\n",
    "    attention = K.expand_dims(attention,axis=1)\n",
    "    print(attention.shape)\n",
    "    \n",
    "    LNN_weight = model.layers[2].get_weights()\n",
    "    SNP_attention = tf.multiply(attention,LNN_weight[0])\n",
    "    SNP_attention = np.array(tf.reshape(SNP_attention,(32,26080)))\n",
    "    SNP_attention = pd.DataFrame(SNP_attention,columns=list(range(1,SNP_attention.shape[1]+1)))\n",
    "    SNP_attention.shape\n",
    "    SNP_attention.insert(0,'Channel',range(1,33))\n",
    "    SNP_attention.insert(0,'Val',val)\n",
    "    SNP_attention.insert(0,\"Trait\",trait)\n",
    "    \n",
    "    SNP_attention = SNP_attention.values.tolist()\n",
    "    #mean_SNP_attention = [trait,val]+list(np.array(tf.reshape(mean_SNP_attention,(26080,))))\n",
    "    #mean_SNP_attention = pd.DataFrame([trait,val]+list(mean_SNP_attention),columns=[trait,val]+list(range(1,length(mean_SNP_attention))))\n",
    "    model = None\n",
    "    keras.backend.clear_session()\n",
    "    gc.collect()\n",
    "    \n",
    "    return SNP_attention\n",
    "    \n",
    "    "
   ]
  },
  {
   "cell_type": "code",
   "execution_count": null,
   "id": "c0647f07",
   "metadata": {},
   "outputs": [],
   "source": [
    "def export_LD_attention_score_by_trait(filename,trait,val):\n",
    "    model = keras.models.load_model(filename,custom_objects={\"MultiHead_QKV_BlockAttention\": MultiHead_QKV_BlockAttention,\n",
    "                                                         \"SNPBlockLayer\":SNPBlockLayer})\n",
    "    model.summary()\n",
    "    #model = keras.Model(inputs=input1, outputs=QV_output)\n",
    "    model.compile(optimizer=\"RMSprop\", loss=\"mean_squared_error\")\n",
    "    test_filename = user_profile+\"OneDrive - The University of Queensland/PhD/data/sugarcane_disease/sugarcane_disease.freqV1.ped\"\n",
    "    data = pd.read_csv(test_filename,header=None,sep=\"\\t\").iloc[:,6:]\n",
    "    data=np.expand_dims(data,axis=-1)\n",
    "    print(data.shape)\n",
    "    intermediate_layer_model = tf.keras.Model(inputs=model.input,\n",
    "                                         outputs=model.get_layer('multi_head_qkv__block_attention').output)\n",
    "    intermediate_output = intermediate_layer_model.predict(data)\n",
    "    attention = intermediate_output[0]\n",
    "    attention = K.expand_dims(attention,axis=1)\n",
    "    print(attention.shape)\n",
    "    \n",
    "    #LNN_weight = model.layers[2].get_weights()\n",
    "    #SNP_attention = tf.multiply(attention,LNN_weight[0])\n",
    "    LD_attention = np.array(tf.reshape(attention,(32,2608)))\n",
    "    LD_attention = pd.DataFrame(LD_attention,columns=list(range(1,LD_attention.shape[1]+1)))\n",
    "\n",
    "    LD_attention.insert(0,'Channel',range(1,33))\n",
    "    LD_attention.insert(0,'Val',val)\n",
    "    LD_attention.insert(0,\"Trait\",trait)\n",
    "    \n",
    "    LD_attention = LD_attention.values.tolist()\n",
    "    #mean_SNP_attention = [trait,val]+list(np.array(tf.reshape(mean_SNP_attention,(26080,))))\n",
    "    #mean_SNP_attention = pd.DataFrame([trait,val]+list(mean_SNP_attention),columns=[trait,val]+list(range(1,length(mean_SNP_attention))))\n",
    "    model = None\n",
    "    keras.backend.clear_session()\n",
    "    gc.collect()\n",
    "    \n",
    "    return LD_attention"
   ]
  },
  {
   "cell_type": "code",
   "execution_count": null,
   "id": "1ab7a763",
   "metadata": {},
   "outputs": [],
   "source": [
    "Model_path = user_profile+\"OneDrive - The University of Queensland/PhD/HPC_Results/Sugarcane_disease/ML/1Head_RealForm32_32LocalB/\"\n",
    "records = []\n",
    "for trait in [\"smut\",\"pachy\"]:\n",
    "    for val in range(1,6):\n",
    "        filename = Model_path + trait + \"_MultiHeadAttentionLNN_\"+str(val)\n",
    "        record = export_attention_score_by_trait(filename,trait,val)\n",
    "        records.append(record)\n"
   ]
  },
  {
   "cell_type": "code",
   "execution_count": null,
   "id": "3443483d",
   "metadata": {},
   "outputs": [],
   "source": [
    "recordss = []\n",
    "for i in records:\n",
    "    for j in i:\n",
    "        recordss.append(j)\n",
    "records_df = pd.DataFrame(recordss,columns=[\"Trait\",\"Val\",\"Channel\"]+list(range(1,26081)))\n",
    "output_path = Model_path + \"Attention_block_Normscore.csv\"\n",
    "records_df.to_csv(output_path,sep=\"\\t\",index=False)"
   ]
  },
  {
   "cell_type": "code",
   "execution_count": null,
   "id": "ab7c2c18",
   "metadata": {},
   "outputs": [],
   "source": [
    "len(recordss[0])"
   ]
  },
  {
   "cell_type": "code",
   "execution_count": null,
   "id": "c403783f",
   "metadata": {},
   "outputs": [],
   "source": []
  },
  {
   "cell_type": "code",
   "execution_count": null,
   "id": "75e6262a",
   "metadata": {},
   "outputs": [],
   "source": [
    "records.insert(0,\"Val\", #columns.values[0:2] = [\"Trait\",\"Val\"]\n",
    "output_path = Model_path + \"Attention_score.csv\"\n",
    "records.to_csv(output_path,sep=\"\\t\",index=False)"
   ]
  },
  {
   "cell_type": "code",
   "execution_count": null,
   "id": "b9ac5fbc",
   "metadata": {},
   "outputs": [],
   "source": [
    "records_df.describe()"
   ]
  },
  {
   "cell_type": "code",
   "execution_count": null,
   "id": "19a20450",
   "metadata": {},
   "outputs": [],
   "source": [
    "intermediate_layer_model = tf.keras.Model(inputs=model.input,\n",
    "                                         outputs=model.get_layer('multi_head_qkv__block_attention').output)\n",
    "intermediate_output = intermediate_layer_model.predict(data)\n",
    "attention = intermediate_output[0]\n",
    "attention = K.expand_dims(attention,axis=1)\n",
    "print(attention.shape)\n",
    "pd.DataFrame(np.array(tf.reshape(attention,(32,2608)))).describe()"
   ]
  },
  {
   "cell_type": "code",
   "execution_count": null,
   "id": "981bf245",
   "metadata": {},
   "outputs": [],
   "source": [
    "keras.backend.clear_session()\n",
    "gc.collect()"
   ]
  },
  {
   "cell_type": "code",
   "execution_count": null,
   "id": "20490f35",
   "metadata": {},
   "outputs": [],
   "source": []
  }
 ],
 "metadata": {
  "kernelspec": {
   "display_name": "Python 3 (ipykernel)",
   "language": "python",
   "name": "python3"
  },
  "language_info": {
   "codemirror_mode": {
    "name": "ipython",
    "version": 3
   },
   "file_extension": ".py",
   "mimetype": "text/x-python",
   "name": "python",
   "nbconvert_exporter": "python",
   "pygments_lexer": "ipython3",
   "version": "3.8.16"
  }
 },
 "nbformat": 4,
 "nbformat_minor": 5
}
