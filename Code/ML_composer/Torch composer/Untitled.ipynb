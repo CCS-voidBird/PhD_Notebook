{
 "cells": [
  {
   "cell_type": "code",
   "execution_count": 1,
   "id": "e383763a",
   "metadata": {},
   "outputs": [
    {
     "name": "stdout",
     "output_type": "stream",
     "text": [
      "F:\\PhD_Notebook\\Code\\ML_composer\\Torch composer\n"
     ]
    }
   ],
   "source": [
    "import os\n",
    "print(os.getcwd())\n",
    "user_profile = \"C:/Users/uqcche32/OneDrive - The University of Queensland/\"\n",
    "#os.chdir(\"F:/project/sugarcane_disease/\")\n",
    "#os.chdir(\"O:/project/sugarcane_disease/\")\n",
    "os.getcwd()\n",
    "os.environ[\"KMP_DUPLICATE_LIB_OK\"]=\"TRUE\"\n",
    "os.chdir(user_profile)"
   ]
  },
  {
   "cell_type": "code",
   "execution_count": 4,
   "id": "84f9233f",
   "metadata": {},
   "outputs": [],
   "source": [
    "from Functions import *"
   ]
  },
  {
   "cell_type": "code",
   "execution_count": null,
   "id": "12bb03fa",
   "metadata": {},
   "outputs": [],
   "source": [
    "class p_args:\n",
    "    \n",
    "    def __init__(self):\n",
    "        \n",
    "        self.ped = user_profile +\"/PhD/data/sugarcane_disease/subset/disease_subset\"\n",
    "        self.pheno = user_profile +\"PhD/data/sugarcane_disease/subset/disease_subset.phen\"\n",
    "        self.mpheno = 1\n",
    "        self.index = user_profile +\"PhD/data/sugarcane_disease/subset/disease_subset.index\"\n",
    "        self.model = \"MultiHead Attention LNN\"\n",
    "        self.annotation =  user_profile +\"PhD/data/sugarcane_disease/subset/disease_subset.anno\"\n",
    "        self.trait = \"smut\"\n",
    "        self.output = \"./Attention_Test_win\"\n",
    "        \n",
    "        self.load = None\n",
    "        self.save = True\n",
    "        self.plot = True\n",
    "        \n",
    "        self.round = 1\n",
    "        self.epoch = 10\n",
    "        self.rank =False\n",
    "        self.lr = 0.0001\n",
    "        self.batch = 32\n",
    "        self.mean = False\n",
    "        self.width = 64\n",
    "        self.depth = 2\n",
    "        self.quiet = 1\n",
    "        self.num_heads = 1\n",
    "        self.residual = True\n",
    "        self.embedding = 12\n",
    "        \n",
    "        \n",
    "args = p_args()"
   ]
  },
  {
   "cell_type": "code",
   "execution_count": 5,
   "id": "3e3ded17",
   "metadata": {},
   "outputs": [],
   "source": [
    "import matplotlib as plt\n",
    "def plot_loss_history(h, title,plot_name=None,checkpoint=0):\n",
    "    print(\"Plotting loss history...\")\n",
    "    plt.plot(h.history['loss'][5:], label = \"Train loss\", color = \"blue\")\n",
    "    plt.plot(h.history['val_loss'][5:], label = \"Validation loss\", color = \"red\")\n",
    "    plt.xlabel('Epochs')\n",
    "    plt.title(title)\n",
    "    #print plot name\n",
    "    print(\"Plot name: \", plot_name)\n",
    "    if plot_name and checkpoint == 0:\n",
    "        #plt.legend()\n",
    "        plt.savefig(plot_name)\n",
    "        plt.close()\n",
    "    else:\n",
    "        plt.show()\n",
    "    #plt.show()"
   ]
  },
  {
   "cell_type": "code",
   "execution_count": 8,
   "id": "70ddba42",
   "metadata": {},
   "outputs": [
    {
     "name": "stdout",
     "output_type": "stream",
     "text": [
      "Something error happened while importing subfunction from tf\n"
     ]
    }
   ],
   "source": [
    "from GS_composer import *"
   ]
  },
  {
   "cell_type": "code",
   "execution_count": null,
   "id": "22854188",
   "metadata": {},
   "outputs": [],
   "source": [
    "from TorchModel import *\n",
    "model = TransformerModel(input_dim=10, nhead=2, nhid=32, nlayers=2)\n",
    "criterion = nn.MSELoss()\n",
    "optimizer = torch.optim.Adam(model.parameters(), lr=0.001)\n",
    "\n",
    "# define the input and target tensors\n",
    "inputs = torch.randn(32, 10) # shape: (batch_size, sequence_length)\n",
    "target = torch.randn(32, 1)  # shape: (batch_size, 1)\n",
    "\n",
    "# forward pass\n",
    "outputs = model(inputs)\n",
    "loss = criterion(outputs, target)\n",
    "\n",
    "# backward pass\n",
    "loss.backward()\n",
    "optimizer.step()"
   ]
  }
 ],
 "metadata": {
  "kernelspec": {
   "display_name": "Python 3 (ipykernel)",
   "language": "python",
   "name": "python3"
  },
  "language_info": {
   "codemirror_mode": {
    "name": "ipython",
    "version": 3
   },
   "file_extension": ".py",
   "mimetype": "text/x-python",
   "name": "python",
   "nbconvert_exporter": "python",
   "pygments_lexer": "ipython3",
   "version": "3.7.12"
  }
 },
 "nbformat": 4,
 "nbformat_minor": 5
}
