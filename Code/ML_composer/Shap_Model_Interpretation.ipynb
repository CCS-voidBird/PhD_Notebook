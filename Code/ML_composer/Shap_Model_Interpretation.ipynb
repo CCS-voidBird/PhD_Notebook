{
 "cells": [
  {
   "cell_type": "code",
   "execution_count": null,
   "id": "f5211359",
   "metadata": {},
   "outputs": [],
   "source": [
    "from tensorflow import keras\n"
   ]
  },
  {
   "cell_type": "code",
   "execution_count": null,
   "id": "880d3ff4",
   "metadata": {},
   "outputs": [],
   "source": [
    "from CustomLayers import *\n",
    "from GS_composer import *\n",
    "from Functions import *\n",
    "from ClassModel import *"
   ]
  },
  {
   "cell_type": "code",
   "execution_count": null,
   "id": "5647b7c6",
   "metadata": {},
   "outputs": [],
   "source": [
    "Model_path = \"C:/Users/uqcche32/OneDrive - The University of Queensland/PhD/HPC_Results/Sugarcane_disease/ML/1Head_RealForm32_32LocalB\"\n",
    "#Model_path = \"E:/learning resource/OneDrive - The University of Queensland/PhD/HPC_Results/Sugarcane_disease/ML/\""
   ]
  },
  {
   "cell_type": "code",
   "execution_count": null,
   "id": "5326a947",
   "metadata": {},
   "outputs": [],
   "source": [
    "from keras import backend as K"
   ]
  },
  {
   "cell_type": "code",
   "execution_count": null,
   "id": "847b4673",
   "metadata": {},
   "outputs": [],
   "source": []
  },
  {
   "cell_type": "code",
   "execution_count": null,
   "id": "912f8ece",
   "metadata": {},
   "outputs": [],
   "source": [
    "model_folder = \"pachy_MultiHeadAttentionLNN_1\"\n",
    "#model_folder = \"test_model\"\n",
    "full_path = Model_path + \"/\" + model_folder\n",
    "model = keras.models.load_model(full_path,custom_objects={\"MultiHead_QKV_BlockAttention\": MultiHead_QKV_BlockAttention,\n",
    "                                                         \"SNPBlockLayer\":SNPBlockLayer})"
   ]
  },
  {
   "cell_type": "code",
   "execution_count": null,
   "id": "486f60bb",
   "metadata": {},
   "outputs": [],
   "source": [
    "model.summary()\n",
    "#model = keras.Model(inputs=input1, outputs=QV_output)\n",
    "model.compile(optimizer=\"RMSprop\", loss=\"mean_squared_error\")"
   ]
  },
  {
   "cell_type": "code",
   "execution_count": null,
   "id": "52965299",
   "metadata": {},
   "outputs": [],
   "source": [
    "\n",
    "data = np.ones((1, 26086, 1))\n",
    "model.predict(data)"
   ]
  },
  {
   "cell_type": "code",
   "execution_count": null,
   "id": "4b5adc0e",
   "metadata": {},
   "outputs": [],
   "source": [
    "intermediate_layer_model = tf.keras.Model(inputs=model.input,\n",
    "                                         outputs=model.get_layer('add_3').output)"
   ]
  },
  {
   "cell_type": "code",
   "execution_count": null,
   "id": "f3cc79e4",
   "metadata": {},
   "outputs": [],
   "source": [
    "intermediate_output = intermediate_layer_model.predict(data)"
   ]
  },
  {
   "cell_type": "code",
   "execution_count": null,
   "id": "ccceda3a",
   "metadata": {},
   "outputs": [],
   "source": [
    "attention = intermediate_output[0]\n",
    "attention = K.expand_dims(attention,axis=1)\n",
    "print(attention.shape)"
   ]
  },
  {
   "cell_type": "code",
   "execution_count": null,
   "id": "771b36e3",
   "metadata": {},
   "outputs": [],
   "source": [
    "LNN_weight = model.layers[2].get_weights()"
   ]
  },
  {
   "cell_type": "code",
   "execution_count": null,
   "id": "166d3466",
   "metadata": {},
   "outputs": [],
   "source": [
    "LNN_weight[0].shape"
   ]
  },
  {
   "cell_type": "code",
   "execution_count": null,
   "id": "90bc248e",
   "metadata": {},
   "outputs": [],
   "source": [
    "SNP_attention = tf.multiply(attention,LNN_weight[0])"
   ]
  },
  {
   "cell_type": "code",
   "execution_count": null,
   "id": "4d2ed6ff",
   "metadata": {},
   "outputs": [],
   "source": [
    "SNP_attention = tf.reshape(SNP_attention,(26080,1,32))"
   ]
  },
  {
   "cell_type": "code",
   "execution_count": null,
   "id": "ec4d9f5e",
   "metadata": {},
   "outputs": [],
   "source": [
    "mean_SNP_attention = SNP_attention #tf.reduce_mean(SNP_attention,axis=2)\n",
    "mean_SNP_attention.shape\n",
    "mean_SNP_attention = np.array(tf.reshape(mean_SNP_attention,(26080*32,)))"
   ]
  },
  {
   "cell_type": "code",
   "execution_count": null,
   "id": "2bbafd6b",
   "metadata": {},
   "outputs": [],
   "source": [
    "import matplotlib.pyplot as plt\n",
    "import math"
   ]
  },
  {
   "cell_type": "code",
   "execution_count": null,
   "id": "1150cc9e",
   "metadata": {},
   "outputs": [],
   "source": [
    "print(mean_SNP_attention.shape)\n",
    "plt.scatter(x=np.tile(np.arange(0,26080),32),y=abs((mean_SNP_attention)))"
   ]
  },
  {
   "cell_type": "code",
   "execution_count": null,
   "id": "47fbfb23",
   "metadata": {},
   "outputs": [],
   "source": [
    "mean_SNP_attention.shape"
   ]
  },
  {
   "cell_type": "code",
   "execution_count": null,
   "id": "2f112086",
   "metadata": {},
   "outputs": [],
   "source": [
    "def export_attention_score_by_trait(filename,trait,val):\n",
    "    model = keras.models.load_model(filename,custom_objects={\"MultiHead_QKV_BlockAttention\": MultiHead_QKV_BlockAttention,\n",
    "                                                         \"SNPBlockLayer\":SNPBlockLayer})\n",
    "    model.summary()\n",
    "    #model = keras.Model(inputs=input1, outputs=QV_output)\n",
    "    model.compile(optimizer=\"RMSprop\", loss=\"mean_squared_error\")\n",
    "    data = np.ones((1, 26086, 1))\n",
    "    intermediate_layer_model = tf.keras.Model(inputs=model.input,\n",
    "                                         outputs=model.get_layer('add_3').output)\n",
    "    attention = intermediate_output[0]\n",
    "    attention = K.expand_dims(attention,axis=1)\n",
    "    print(attention.shape)\n",
    "    \n",
    "    LNN_weight = model.layers[2].get_weights()\n",
    "    SNP_attention = tf.multiply(attention,LNN_weight[0])\n",
    "    SNP_attention = np.array(tf.reshape(SNP_attention,(32,26080)))\n",
    "    SNP_attention = pd.DataFrame(SNP_attention,columns=list(range(1,SNP_attention.shape[1]+1)))\n",
    "    SNP_attention.shape\n",
    "    SNP_attention.insert(0,'Channel',range(1,33))\n",
    "    SNP_attention.insert(0,'Val',val)\n",
    "    SNP_attention.insert(0,\"Trait\",trait)\n",
    "    \n",
    "    SNP_attention = SNP_attention.values.tolist()\n",
    "    #mean_SNP_attention = [trait,val]+list(np.array(tf.reshape(mean_SNP_attention,(26080,))))\n",
    "    #mean_SNP_attention = pd.DataFrame([trait,val]+list(mean_SNP_attention),columns=[trait,val]+list(range(1,length(mean_SNP_attention))))\n",
    "\n",
    "    return SNP_attention\n",
    "    \n",
    "    "
   ]
  },
  {
   "cell_type": "code",
   "execution_count": null,
   "id": "d3dd5411",
   "metadata": {},
   "outputs": [],
   "source": [
    "Model_path = \"C:/Users/uqcche32/OneDrive - The University of Queensland/PhD/HPC_Results/Sugarcane_disease/ML/1Head_RealForm32_32LocalB/\"\n",
    "records = []\n",
    "for trait in [\"smut\",\"pachy\"]:\n",
    "    for val in range(1,6):\n",
    "        filename = Model_path + trait + \"_MultiHeadAttentionLNN_\"+str(val)\n",
    "        record = export_attention_score_by_trait(filename,trait,val)\n",
    "        records.append(record)\n"
   ]
  },
  {
   "cell_type": "code",
   "execution_count": null,
   "id": "9ed0e020",
   "metadata": {},
   "outputs": [],
   "source": [
    "recordss = []\n",
    "for i in records:\n",
    "    for j in i:\n",
    "        recordss.append(j)\n",
    "records_df = pd.DataFrame(recordss,columns=[\"Trait\",\"Val\",\"Channel\"]+list(range(1,26081)))\n",
    "output_path = Model_path + \"Attention_score_bychannel.csv\"\n",
    "records_df.to_csv(output_path,sep=\"\\t\",index=False)"
   ]
  },
  {
   "cell_type": "code",
   "execution_count": null,
   "id": "65e80363",
   "metadata": {},
   "outputs": [],
   "source": [
    "recordss[0]"
   ]
  },
  {
   "cell_type": "code",
   "execution_count": null,
   "id": "a2fe56b8",
   "metadata": {},
   "outputs": [],
   "source": [
    "records.insert(0,\"Val\", #columns.values[0:2] = [\"Trait\",\"Val\"]\n",
    "output_path = Model_path + \"Attention_score.csv\"\n",
    "records.to_csv(output_path,sep=\"\\t\",index=False)"
   ]
  },
  {
   "cell_type": "code",
   "execution_count": null,
   "id": "c97e8efe",
   "metadata": {},
   "outputs": [],
   "source": [
    "records_df.head(4)"
   ]
  },
  {
   "cell_type": "code",
   "execution_count": null,
   "id": "0e3e2fdd",
   "metadata": {},
   "outputs": [],
   "source": []
  }
 ],
 "metadata": {
  "kernelspec": {
   "display_name": "Python 3 (ipykernel)",
   "language": "python",
   "name": "python3"
  },
  "language_info": {
   "codemirror_mode": {
    "name": "ipython",
    "version": 3
   },
   "file_extension": ".py",
   "mimetype": "text/x-python",
   "name": "python",
   "nbconvert_exporter": "python",
   "pygments_lexer": "ipython3",
   "version": "3.7.12"
  }
 },
 "nbformat": 4,
 "nbformat_minor": 5
}
