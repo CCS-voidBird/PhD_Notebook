{
 "cells": [
  {
   "cell_type": "markdown",
   "id": "42b9bef8",
   "metadata": {},
   "source": [
    "TEST ML_composer \n"
   ]
  },
  {
   "cell_type": "code",
   "execution_count": 1,
   "id": "ec965f08",
   "metadata": {},
   "outputs": [
    {
     "name": "stdout",
     "output_type": "stream",
     "text": [
      "WARNING:tensorflow:From F:\\PhD_Notebook\\Code\\ML_composer\\CustomLayers.py:8: experimental_run_functions_eagerly (from tensorflow.python.eager.def_function) is deprecated and will be removed in a future version.\n",
      "Instructions for updating:\n",
      "Use `tf.config.run_functions_eagerly` instead of the experimental version.\n"
     ]
    }
   ],
   "source": [
    "import os\n",
    "from GS_composer import *\n",
    "tf.config.run_functions_eagerly(True)"
   ]
  },
  {
   "cell_type": "code",
   "execution_count": 2,
   "id": "ce5bd3d1",
   "metadata": {},
   "outputs": [],
   "source": [
    "physical_devices = tf.config.list_physical_devices('GPU')\n",
    "if physical_devices:\n",
    "    gpu = physical_devices[0]\n",
    "    print(gpu)\n",
    "    assert gpu.device_type == 'GPU'"
   ]
  },
  {
   "cell_type": "code",
   "execution_count": 3,
   "id": "f53b80eb",
   "metadata": {},
   "outputs": [
    {
     "name": "stdout",
     "output_type": "stream",
     "text": [
      "F:\\PhD_Notebook\\Code\\ML_composer\n"
     ]
    }
   ],
   "source": [
    "import os\n",
    "print(os.getcwd())\n",
    "#os.chdir(\"F:/project/sugarcane_disease/\")\n",
    "#os.chdir(\"O:/project/sugarcane_disease/\")\n",
    "os.getcwd()\n",
    "os.environ[\"KMP_DUPLICATE_LIB_OK\"]=\"TRUE\"\n",
    "user_profile = \"C:/Users/uqcche32/OneDrive - The University of Queensland/PhD/data/\"\n",
    "#user_profile = \"H:/Data/\"\n",
    "#os.chdir(\"E:/learning resource/OneDrive - The University of Queensland/PhD/HPC_Results/Sugarcane_disease/ML/\")\n",
    "#os.chdir(\"C:/Users/uqcche32/OneDrive - The University of Queensland/PhD/HPC_Results/Sugarcane_disease/ML/\")"
   ]
  },
  {
   "cell_type": "code",
   "execution_count": 4,
   "id": "78179902",
   "metadata": {},
   "outputs": [
    {
     "ename": "NameError",
     "evalue": "name 'gpu' is not defined",
     "output_type": "error",
     "traceback": [
      "\u001b[1;31m---------------------------------------------------------------------------\u001b[0m",
      "\u001b[1;31mNameError\u001b[0m                                 Traceback (most recent call last)",
      "Input \u001b[1;32mIn [4]\u001b[0m, in \u001b[0;36m<cell line: 1>\u001b[1;34m()\u001b[0m\n\u001b[1;32m----> 1\u001b[0m tf\u001b[38;5;241m.\u001b[39mconfig\u001b[38;5;241m.\u001b[39mexperimental\u001b[38;5;241m.\u001b[39mget_device_details(\u001b[43mgpu\u001b[49m)\n",
      "\u001b[1;31mNameError\u001b[0m: name 'gpu' is not defined"
     ]
    }
   ],
   "source": [
    "tf.config.experimental.get_device_details(gpu)"
   ]
  },
  {
   "cell_type": "code",
   "execution_count": 5,
   "id": "c5b0a862",
   "metadata": {},
   "outputs": [],
   "source": [
    "from ClassModel import *\n",
    "from CustomLayers import *"
   ]
  },
  {
   "cell_type": "code",
   "execution_count": 6,
   "id": "af654204",
   "metadata": {},
   "outputs": [],
   "source": [
    "from Functions import *"
   ]
  },
  {
   "cell_type": "code",
   "execution_count": 7,
   "id": "1f856e93",
   "metadata": {},
   "outputs": [],
   "source": [
    "class p_args:\n",
    "    \n",
    "    def __init__(self):\n",
    "        \n",
    "        self.ped = user_profile +\"sugarcane_disease/subset/disease_subset\"\n",
    "        self.pheno = user_profile +\"sugarcane_disease/subset/disease_subset.phen\"\n",
    "        self.mpheno = 1\n",
    "        self.index = user_profile +\"sugarcane_disease/subset/disease_subset.index\"\n",
    "        self.model = \"MultiLevel Attention\"\n",
    "        self.annotation =  user_profile +\"sugarcane_disease/subset/disease_subset.anno\"\n",
    "        self.trait = \"smut\"\n",
    "        self.output = \"../Attention_Test_win\"\n",
    "        \n",
    "        self.load = None\n",
    "        self.save = True\n",
    "        self.plot = True\n",
    "        self.loss = \"mae\"\n",
    "        \n",
    "        self.round = 1\n",
    "        self.epoch = 10\n",
    "        self.rank =False\n",
    "        self.lr = 0.0001\n",
    "        self.batch = 32\n",
    "        self.mean = False\n",
    "        self.width = 64\n",
    "        self.depth = 2\n",
    "        self.quiet = 1\n",
    "        self.num_heads = 2\n",
    "        self.residual = True\n",
    "        self.embedding = 12\n",
    "        self.data_type = \"numerous\"\n",
    "        self.activation = \"linear\"\n",
    "        self.classes = 0\n",
    "        \n",
    "        \n",
    "args = p_args()"
   ]
  },
  {
   "cell_type": "code",
   "execution_count": 8,
   "id": "543e6b9e",
   "metadata": {},
   "outputs": [],
   "source": [
    "config = None\n"
   ]
  },
  {
   "cell_type": "code",
   "execution_count": 9,
   "id": "022829e7",
   "metadata": {},
   "outputs": [],
   "source": [
    "if args.output[0] == \"/\":\n",
    "    locat = '/' + args.output.strip('/') + '/'\n",
    "else:\n",
    "    locat = args.output.strip('/') + '/'\n",
    "if not os.path.exists(locat):\n",
    "    os.mkdir(locat)"
   ]
  },
  {
   "cell_type": "code",
   "execution_count": 10,
   "id": "d9730339",
   "metadata": {},
   "outputs": [],
   "source": [
    "composer = ML_composer()\n",
    "composer._model\n",
    "composer.silence_mode = 2"
   ]
  },
  {
   "cell_type": "code",
   "execution_count": 11,
   "id": "164ed974",
   "metadata": {},
   "outputs": [],
   "source": [
    "#composer.get_data(config,args)\n",
    "composer.args = args"
   ]
  },
  {
   "cell_type": "code",
   "execution_count": 12,
   "id": "1f6dc0d4",
   "metadata": {},
   "outputs": [
    {
     "name": "stdout",
     "output_type": "stream",
     "text": [
      "2\n",
      "1    939\n",
      "3    940\n",
      "4    940\n",
      "2    940\n",
      "5    943\n",
      "Name: count, dtype: int64\n",
      "Get genotype shape: (4702, 100)\n",
      "   7   8   9   10  11  12  13  14  15\n",
      "1   0   2   0   1   2   1   0   1   2\n",
      "2   1   2   1   1   2   1   0   1   1\n",
      "3   1   2   0   0   1   0   1   1   2\n",
      "4   1   2   0   0   1   0   1   1   2\n",
      "5   0   2   1   1   2   0   2   1   1\n",
      "6   0   2   0   1   2   1   0   1   2\n",
      "7   1   2   1   1   2   1   2   1   2\n",
      "8   0   2   0   1   1   0   1   0   2\n",
      "9   1   2   1   1   2   1   2   1   2\n",
      "Running data check\n",
      "GENO\n",
      "FAM\n",
      "PHENO\n",
      "INDEX\n",
      "SNPs in annotation file are not ordered by map file\n",
      "   Chromosome  SID  LID\n",
      "0           1    1    0\n",
      "1           1    2    0\n",
      "2           1    3    0\n",
      "3           1    4    0\n",
      "4           1    5    0\n",
      "5           1    6    0\n",
      "6           1    7    0\n",
      "7           1    8    0\n",
      "8           1    9    0\n",
      "9           1   10    0\n",
      "[array([ 0,  1,  2,  3,  4,  5,  6,  7,  8,  9, 10, 11, 12, 18, 19, 20, 21,\n",
      "        22, 23, 24, 25, 26, 27, 28, 29, 30, 31, 37, 38, 39, 40, 41, 42, 43,\n",
      "        44, 45, 46, 47, 48, 49, 50, 53, 54, 55, 56, 57, 59, 60, 61, 62, 63,\n",
      "        64, 65, 66, 67, 68, 69, 70, 71, 72, 73, 74, 75, 76, 77, 78, 79, 80,\n",
      "        81, 82, 83, 84, 85, 86, 87, 88, 89, 90, 91, 92, 93, 95, 96, 97, 98,\n",
      "        99], dtype=int64)\n",
      " array([13, 14, 15, 16, 17], dtype=int64)\n",
      " array([32, 33, 34, 35, 36], dtype=int64) array([51, 52], dtype=int64)\n",
      " array([58], dtype=int64) array([94], dtype=int64)]\n"
     ]
    },
    {
     "name": "stderr",
     "output_type": "stream",
     "text": [
      "F:\\PhD_Notebook\\Code\\ML_composer\\GS_composer.py:166: VisibleDeprecationWarning: Creating an ndarray from ragged nested sequences (which is a list-or-tuple of lists-or-tuples-or ndarrays with different lengths or shapes) is deprecated. If you meant to do this, you must specify 'dtype=object' when creating the ndarray.\n",
      "  self.annotation = np.array([x.values for x in LD_index.groups.values()])\n"
     ]
    }
   ],
   "source": [
    "composer.get_data(config,args=args)"
   ]
  },
  {
   "cell_type": "code",
   "execution_count": 13,
   "id": "ac059791",
   "metadata": {},
   "outputs": [],
   "source": [
    "#composer.prepare_model()\n",
    "#composer._model[\"INIT_MODEL\"].init_model()"
   ]
  },
  {
   "cell_type": "code",
   "execution_count": 14,
   "id": "b8352044",
   "metadata": {},
   "outputs": [
    {
     "data": {
      "text/plain": [
       "'MultiLevel Attention'"
      ]
     },
     "execution_count": 14,
     "metadata": {},
     "output_type": "execute_result"
    }
   ],
   "source": [
    "args.model"
   ]
  },
  {
   "cell_type": "code",
   "execution_count": null,
   "id": "edae314b",
   "metadata": {},
   "outputs": [],
   "source": []
  },
  {
   "cell_type": "code",
   "execution_count": 15,
   "id": "3961d45b",
   "metadata": {},
   "outputs": [],
   "source": [
    "index_ref = composer.prepare_cross_validate()"
   ]
  },
  {
   "cell_type": "code",
   "execution_count": 16,
   "id": "3829026b",
   "metadata": {},
   "outputs": [
    {
     "name": "stdout",
     "output_type": "stream",
     "text": [
      "Cross-validate: ([2, 3, 4, 5], [1])\n"
     ]
    }
   ],
   "source": [
    "print(\"Cross-validate: {}\".format(index_ref[0]))"
   ]
  },
  {
   "cell_type": "code",
   "execution_count": 17,
   "id": "f374108c",
   "metadata": {},
   "outputs": [],
   "source": [
    "train_idx,valid_idx = index_ref[0]"
   ]
  },
  {
   "cell_type": "code",
   "execution_count": 18,
   "id": "11646da2",
   "metadata": {},
   "outputs": [
    {
     "name": "stdout",
     "output_type": "stream",
     "text": [
      "Overall population: 4702\n",
      "759 individuals need to be removed due to the miss phenotype\n",
      "Filtered population: 3943\n",
      "Mean of train phenotype: 4.715129635707253\n",
      "Use raw phenotype as the target\n",
      "16    1.0\n",
      "39    3.0\n",
      "44    3.0\n",
      "47    2.0\n",
      "92    3.0\n",
      "Name: 2, dtype: float64\n"
     ]
    }
   ],
   "source": [
    "composer.prepare_training(train_idx,valid_idx)\n",
    "#composer.batchSize = 64"
   ]
  },
  {
   "cell_type": "code",
   "execution_count": 19,
   "id": "a4304d6b",
   "metadata": {},
   "outputs": [],
   "source": [
    "#composer._raw_data[\"GENO\"].iloc[:,6:].describe()"
   ]
  },
  {
   "cell_type": "code",
   "execution_count": 20,
   "id": "3803681a",
   "metadata": {},
   "outputs": [
    {
     "name": "stdout",
     "output_type": "stream",
     "text": [
      "USE Attention CNN MODEL as training method\n",
      "Convert data to np.array float32\n",
      "The transformed SNP shape: (3047, 100, 1)\n",
      "USE Attention CNN MODEL as training method\n",
      "Convert data to np.array float32\n",
      "The transformed SNP shape: (896, 100, 1)\n",
      "Train status:\n",
      "Epochs:  10\n",
      "Repeat(Round):  1\n",
      "Got input shape: (100, 1)\n",
      "(None, 100, 1)\n",
      "You must install pydot (`pip install pydot`) and install graphviz (see instructions at https://graphviz.gitlab.io/download/) for plot_model/model_to_dot to work.\n",
      "Model: \"model\"\n",
      "__________________________________________________________________________________________________\n",
      " Layer (type)                   Output Shape         Param #     Connected to                     \n",
      "==================================================================================================\n",
      " input_layer_1 (InputLayer)     [(None, 100, 1)]     0           []                               \n",
      "                                                                                                  \n",
      " grouped_locally_connected_laye  (None, 1, 12)       1032        ['input_layer_1[0][0]']          \n",
      " r (GroupedLocallyConnectedLaye                                                                   \n",
      " r)                                                                                               \n",
      "                                                                                                  \n",
      " grouped_locally_connected_laye  (None, 1, 12)       60          ['input_layer_1[0][0]']          \n",
      " r_1 (GroupedLocallyConnectedLa                                                                   \n",
      " yer)                                                                                             \n",
      "                                                                                                  \n",
      " grouped_locally_connected_laye  (None, 1, 12)       60          ['input_layer_1[0][0]']          \n",
      " r_2 (GroupedLocallyConnectedLa                                                                   \n",
      " yer)                                                                                             \n",
      "                                                                                                  \n",
      " grouped_locally_connected_laye  (None, 1, 12)       24          ['input_layer_1[0][0]']          \n",
      " r_3 (GroupedLocallyConnectedLa                                                                   \n",
      " yer)                                                                                             \n",
      "                                                                                                  \n",
      " grouped_locally_connected_laye  (None, 1, 12)       12          ['input_layer_1[0][0]']          \n",
      " r_4 (GroupedLocallyConnectedLa                                                                   \n",
      " yer)                                                                                             \n",
      "                                                                                                  \n",
      " grouped_locally_connected_laye  (None, 1, 12)       12          ['input_layer_1[0][0]']          \n",
      " r_5 (GroupedLocallyConnectedLa                                                                   \n",
      " yer)                                                                                             \n",
      "                                                                                                  \n",
      " concatenate (Concatenate)      (None, 6, 12)        0           ['grouped_locally_connected_layer\n",
      "                                                                 [0][0]',                         \n",
      "                                                                  'grouped_locally_connected_layer\n",
      "                                                                 _1[0][0]',                       \n",
      "                                                                  'grouped_locally_connected_layer\n",
      "                                                                 _2[0][0]',                       \n",
      "                                                                  'grouped_locally_connected_layer\n",
      "                                                                 _3[0][0]',                       \n",
      "                                                                  'grouped_locally_connected_layer\n",
      "                                                                 _4[0][0]',                       \n",
      "                                                                  'grouped_locally_connected_layer\n",
      "                                                                 _5[0][0]']                       \n",
      "                                                                                                  \n",
      " dense (Dense)                  (None, 6, 12)        156         ['concatenate[0][0]']            \n",
      "                                                                                                  \n",
      " multi_level__block_attention (  ((None, 6, 12),     492         ['dense[0][0]']                  \n",
      " MultiLevel_BlockAttention)      (None, 6, 6))                                                    \n",
      "                                                                                                  \n",
      " conv1d (Conv1D)                (None, 6, 1)         12          ['multi_level__block_attention[0]\n",
      "                                                                 [0]']                            \n",
      "                                                                                                  \n",
      " activation (Activation)        (None, 6, 1)         0           ['conv1d[0][0]']                 \n",
      "                                                                                                  \n",
      " global_average_pooling1d (Glob  (None, 1)           0           ['conv1d[0][0]']                 \n",
      " alAveragePooling1D)                                                                              \n",
      "                                                                                                  \n",
      " flatten (Flatten)              (None, 6)            0           ['activation[0][0]']             \n",
      "                                                                                                  \n",
      " flatten_1 (Flatten)            (None, 1)            0           ['global_average_pooling1d[0][0]'\n",
      "                                                                 ]                                \n",
      "                                                                                                  \n",
      " dense_1 (Dense)                (None, 1)            7           ['flatten[0][0]']                \n",
      "                                                                                                  \n",
      " add (Add)                      (None, 1)            0           ['flatten_1[0][0]',              \n",
      "                                                                  'dense_1[0][0]']                \n",
      "                                                                                                  \n",
      "==================================================================================================\n",
      "Total params: 1,867\n",
      "Trainable params: 1,867\n",
      "Non-trainable params: 0\n",
      "__________________________________________________________________________________________________\n",
      "None\n",
      "Epoch 1/10\n",
      " 3/96 [..............................] - ETA: 2s - loss: 30.1858 - acc: 0.0000e+00"
     ]
    },
    {
     "name": "stderr",
     "output_type": "stream",
     "text": [
      "F:\\miniconda\\envs\\tf29\\lib\\site-packages\\tensorflow\\python\\data\\ops\\structured_function.py:264: UserWarning: Even though the `tf.config.experimental_run_functions_eagerly` option is set, this option does not apply to tf.data functions. To force eager execution of tf.data functions, please use `tf.data.experimental.enable_debug_mode()`.\n",
      "  warnings.warn(\n"
     ]
    },
    {
     "name": "stdout",
     "output_type": "stream",
     "text": [
      "96/96 [==============================] - 3s 30ms/step - loss: 13.8621 - acc: 0.0217 - val_loss: 4.4161 - val_acc: 0.0190 - lr: 0.0010\n",
      "Epoch 2/10\n",
      "96/96 [==============================] - 3s 29ms/step - loss: 5.4139 - acc: 0.0309 - val_loss: 4.5025 - val_acc: 0.0190 - lr: 0.0010\n",
      "Epoch 3/10\n",
      "96/96 [==============================] - 3s 34ms/step - loss: 5.2890 - acc: 0.0309 - val_loss: 3.9093 - val_acc: 0.0190 - lr: 0.0010\n",
      "Epoch 4/10\n",
      "96/96 [==============================] - 3s 30ms/step - loss: 5.2078 - acc: 0.0309 - val_loss: 4.2766 - val_acc: 0.0190 - lr: 0.0010\n",
      "Epoch 5/10\n",
      "96/96 [==============================] - 3s 28ms/step - loss: 5.1405 - acc: 0.0309 - val_loss: 4.0555 - val_acc: 0.0190 - lr: 0.0010\n",
      "Epoch 6/10\n",
      "96/96 [==============================] - 3s 28ms/step - loss: 5.0698 - acc: 0.0309 - val_loss: 4.3020 - val_acc: 0.0190 - lr: 0.0010\n",
      "Epoch 7/10\n",
      "96/96 [==============================] - 3s 28ms/step - loss: 5.0291 - acc: 0.0309 - val_loss: 4.0050 - val_acc: 0.0190 - lr: 0.0010\n",
      "Epoch 8/10\n",
      "96/96 [==============================] - 3s 30ms/step - loss: 4.9629 - acc: 0.0309 - val_loss: 3.8915 - val_acc: 0.0190 - lr: 0.0010\n",
      "Epoch 9/10\n",
      "96/96 [==============================] - 3s 29ms/step - loss: 4.9199 - acc: 0.0309 - val_loss: 4.7081 - val_acc: 0.0190 - lr: 0.0010\n",
      "Epoch 10/10\n",
      "96/96 [==============================] - 3s 29ms/step - loss: 4.8981 - acc: 0.0309 - val_loss: 3.9123 - val_acc: 0.0190 - lr: 0.0010\n",
      " - train loss     : 4.898088455200195\n",
      " - validation loss: 3.9122979640960693\n",
      " - loss decrease rate in last 5 epochs: -0.18720810413360595\n",
      " - Actual Training epochs:  10\n",
      "96/96 [==============================] - 1s 8ms/step\n",
      "Train End.\n",
      "In-year accuracy (measured as Pearson's correlation) is:  0.3490161690268713\n",
      "Training Runtime:  0.48333333333333334  min\n",
      "USE Attention CNN MODEL as training method\n",
      "Convert data to np.array float32\n",
      "The transformed SNP shape: (896, 100, 1)\n",
      "Predicting valid set..\n",
      "28/28 [==============================] - 0s 7ms/step\n",
      "Testing prediction:\n",
      "Predicted:  [[3.0482616]\n",
      " [3.609741 ]\n",
      " [4.1838775]\n",
      " [3.146892 ]\n",
      " [4.417567 ]\n",
      " [3.9498954]\n",
      " [3.3953538]\n",
      " [3.7454007]\n",
      " [4.05162  ]\n",
      " [2.962351 ]]\n",
      "observed:  [1. 3. 3. 2. 3. 4. 2. 3. 3. 4.]\n",
      "Observation mean: 3.9140625 Var: 3.862034320831299\n",
      "Prediction mean: 3.964826822280884 Var: 0.25579461455345154\n",
      "Validate prediction accuracy (measured as Pearson's correlation) is:  0.104689755885802\n",
      "Saving the model with higher accuracy...\n"
     ]
    },
    {
     "name": "stderr",
     "output_type": "stream",
     "text": [
      "WARNING:absl:Found untraced functions such as _jit_compiled_convolution_op while saving (showing 1 of 1). These functions will not be directly callable after loading.\n"
     ]
    },
    {
     "name": "stdout",
     "output_type": "stream",
     "text": [
      "INFO:tensorflow:Assets written to: F:\\PhD_Notebook\\Code\\Attention_Test_win/smut_MultiLevelAttention_1\\assets\n"
     ]
    },
    {
     "name": "stderr",
     "output_type": "stream",
     "text": [
      "INFO:tensorflow:Assets written to: F:\\PhD_Notebook\\Code\\Attention_Test_win/smut_MultiLevelAttention_1\\assets\n"
     ]
    },
    {
     "name": "stdout",
     "output_type": "stream",
     "text": [
      "Model saved.\n",
      "Resource check:\n",
      "Total memory: 31.7264 GB\n",
      "Currently using memory: 0.4787 GB\n",
      "Ratio of used memory: 34.4000  %\n",
      "Number of CPU node:  16\n",
      "Plotting the training process...\n",
      "F:\\PhD_Notebook\\Code\\Attention_Test_win/smut_MultiLevelAttention_smut\n",
      "Plotting loss history...\n",
      "Plot name:  F:\\PhD_Notebook\\Code\\Attention_Test_win/smut_MultiLevelAttention_smut/smut_MultiLevelAttention_1.png\n",
      "Result:\n",
      "  Trait      TrainSet ValidSet                Model  Test_Accuracy   \n",
      "0  smut  [2, 3, 4, 5]      [1]  MultiLevelAttention       0.349016  \\\n",
      "\n",
      "   Valid_Accuracy       mae   Runtime  \n",
      "0         0.10469  3.912298  0.483333  \n"
     ]
    }
   ],
   "source": [
    "composer.compose(train_idx,valid_idx)"
   ]
  },
  {
   "cell_type": "code",
   "execution_count": null,
   "id": "07e3b9e6",
   "metadata": {},
   "outputs": [],
   "source": [
    "composer._model[\"TRAINED_MODEL\"].save(\"./test_model\")\n",
    "\n",
    "#import tensorflow as tf \n",
    "\n",
    "if tf.test.gpu_device_name(): \n",
    "    print('Default GPU Device:{}'.format(tf.test.gpu_device_name()))\n",
    "else:\n",
    "    print(\"Please install GPU version of TF\")"
   ]
  },
  {
   "cell_type": "code",
   "execution_count": null,
   "id": "4a24b9fa",
   "metadata": {},
   "outputs": [],
   "source": [
    "print(composer.)"
   ]
  },
  {
   "cell_type": "code",
   "execution_count": null,
   "id": "ed9e71b9",
   "metadata": {},
   "outputs": [],
   "source": [
    "os.getcwd()"
   ]
  },
  {
   "cell_type": "code",
   "execution_count": null,
   "id": "78368265",
   "metadata": {},
   "outputs": [],
   "source": [
    "tf.executing_eagerly()"
   ]
  },
  {
   "cell_type": "code",
   "execution_count": null,
   "id": "0d4e736b",
   "metadata": {},
   "outputs": [],
   "source": [
    "print(tf.__version__)"
   ]
  },
  {
   "cell_type": "code",
   "execution_count": null,
   "id": "715bfd3b",
   "metadata": {},
   "outputs": [],
   "source": [
    "input_tensor = tf.constant([1, 2, 3, 4, 5])\n",
    "input_tensor.numpy()"
   ]
  },
  {
   "cell_type": "code",
   "execution_count": null,
   "id": "b7b9066a",
   "metadata": {},
   "outputs": [],
   "source": [
    "index_ref = composer.prepare_cross_validate()\n",
    "i = 1\n",
    "for train_idx,valid_idx in index_ref:\n",
    "    print(\"Cross-validate: {}\".format(i))\n",
    "    composer.prepare_training(train_idx,valid_idx)\n",
    "    composer.compose(train_idx,valid_idx)\n",
    "    i+=1"
   ]
  }
 ],
 "metadata": {
  "kernelspec": {
   "display_name": "Python 3 (ipykernel)",
   "language": "python",
   "name": "python3"
  },
  "language_info": {
   "codemirror_mode": {
    "name": "ipython",
    "version": 3
   },
   "file_extension": ".py",
   "mimetype": "text/x-python",
   "name": "python",
   "nbconvert_exporter": "python",
   "pygments_lexer": "ipython3",
   "version": "3.8.16"
  }
 },
 "nbformat": 4,
 "nbformat_minor": 5
}
